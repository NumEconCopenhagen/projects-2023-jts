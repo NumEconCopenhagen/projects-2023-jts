{
 "cells": [
  {
   "cell_type": "markdown",
   "metadata": {},
   "source": [
    "# Inaugural Project"
   ]
  },
  {
   "attachments": {},
   "cell_type": "markdown",
   "metadata": {},
   "source": [
    "Hi! Welcome to my Inaugural Project..."
   ]
  },
  {
   "attachments": {},
   "cell_type": "markdown",
   "metadata": {},
   "source": [
    "Here I import modules and autoreload them, so to make the code run smoothly. \n",
    "<br>\n",
    "I also import the model from the folder `inauguralproject` which this code refers to."
   ]
  },
  {
   "cell_type": "code",
   "execution_count": 1,
   "metadata": {},
   "outputs": [],
   "source": [
    "# import modules\n",
    "from types import SimpleNamespace\n",
    "import numpy as np\n",
    "from scipy import optimize\n",
    "import pandas as pd \n",
    "import matplotlib.pyplot as plt\n",
    "import warnings\n",
    "\n",
    "# autoreload modules when code is run. Otherwise, python will not see recent changes. \n",
    "%load_ext autoreload\n",
    "%autoreload 2\n",
    "\n",
    "# model\n",
    "from inauguralproject import HouseholdSpecializationModelClass"
   ]
  },
  {
   "attachments": {},
   "cell_type": "markdown",
   "metadata": {},
   "source": [
    "I use a general style for all my plots!"
   ]
  },
  {
   "cell_type": "code",
   "execution_count": 2,
   "metadata": {},
   "outputs": [],
   "source": [
    "# Predefine options for all plots\n",
    "plt.rcParams.update({\"axes.grid\":True,\"grid.color\":\"black\",\"grid.alpha\":\"0.25\",\"grid.linestyle\":\"-\"})\n",
    "plt.rcParams.update({'font.size': 12})"
   ]
  },
  {
   "cell_type": "markdown",
   "metadata": {},
   "source": [
    "# Question 1"
   ]
  },
  {
   "attachments": {},
   "cell_type": "markdown",
   "metadata": {},
   "source": [
    "To solve the first question I call the model. I then create two vectors, one for the values of $\\alpha$ and one for the values of $\\sigma$.Having specified the vectors, I create empty lists to append the results. \n",
    "\n",
    "I solve the model for varying $\\alpha$ and $\\sigma$ values using a nested `for loop`.\n",
    "The `for loop` loops through each value of $\\alpha$ and $\\sigma$, thus to create $3\\times3=9$ values of $H_F/H_M$."
   ]
  },
  {
   "cell_type": "code",
   "execution_count": 3,
   "metadata": {},
   "outputs": [
    {
     "name": "stdout",
     "output_type": "stream",
     "text": [
      "HF/HM = 0.545 for alpha = 0.25, sigma = 0.5\n",
      "HF/HM = 0.308 for alpha = 0.25, sigma = 1.0\n",
      "HF/HM = 0.214 for alpha = 0.25, sigma = 1.5\n",
      "HF/HM = 1.000 for alpha = 0.5, sigma = 0.5\n",
      "HF/HM = 1.000 for alpha = 0.5, sigma = 1.0\n",
      "HF/HM = 1.000 for alpha = 0.5, sigma = 1.5\n",
      "HF/HM = 1.833 for alpha = 0.75, sigma = 0.5\n",
      "HF/HM = 3.250 for alpha = 0.75, sigma = 1.0\n",
      "HF/HM = 4.667 for alpha = 0.75, sigma = 1.5\n"
     ]
    }
   ],
   "source": [
    "# call the model\n",
    "model = HouseholdSpecializationModelClass()\n",
    "\n",
    "# vector of alpha and sigma\n",
    "alpha_vec = [0.25, 0.50, 0.75]\n",
    "sigma_vec = [0.5, 1.0, 1.5]\n",
    "\n",
    "# empty lists\n",
    "alpha_list = []\n",
    "sigma_list = []\n",
    "HF_HM_list = []\n",
    "\n",
    "# solve model for alpha, sigma and HF_HM\n",
    "for alpha in alpha_vec:\n",
    "\n",
    "    # set the models alpha parameter to alpha in the alpha vector\n",
    "    model.par.alpha = alpha\n",
    "    \n",
    "    # ignore warning  \n",
    "    warnings.filterwarnings(action='ignore')\n",
    "\n",
    "    for sigma in sigma_vec:\n",
    "        \n",
    "        # set the models sigma parameter to sigma in the sigma vector\n",
    "        model.par.sigma = sigma\n",
    "\n",
    "        # solve the model\n",
    "        opt = model.solve_discrete()\n",
    "\n",
    "        # for each value of HF and HM find HF/HM\n",
    "        HF_HM = opt.HF / opt.HM\n",
    "\n",
    "        # append the result to the lists\n",
    "        alpha_list.append(alpha)\n",
    "        sigma_list.append(sigma)\n",
    "        HF_HM_list.append(HF_HM)\n",
    "\n",
    "        # print results\n",
    "        print(f'HF/HM ={HF_HM: .3f} for alpha = {alpha}, sigma = {sigma}')"
   ]
  },
  {
   "attachments": {},
   "cell_type": "markdown",
   "metadata": {},
   "source": [
    "To present the results I use `pd.DataFrame` to create a pivot table.\n"
   ]
  },
  {
   "cell_type": "code",
   "execution_count": 4,
   "metadata": {},
   "outputs": [
    {
     "data": {
      "text/html": [
       "<div>\n",
       "<style scoped>\n",
       "    .dataframe tbody tr th:only-of-type {\n",
       "        vertical-align: middle;\n",
       "    }\n",
       "\n",
       "    .dataframe tbody tr th {\n",
       "        vertical-align: top;\n",
       "    }\n",
       "\n",
       "    .dataframe thead th {\n",
       "        text-align: right;\n",
       "    }\n",
       "</style>\n",
       "<table border=\"1\" class=\"dataframe\">\n",
       "  <thead>\n",
       "    <tr style=\"text-align: right;\">\n",
       "      <th>alpha</th>\n",
       "      <th>0.25</th>\n",
       "      <th>0.50</th>\n",
       "      <th>0.75</th>\n",
       "    </tr>\n",
       "    <tr>\n",
       "      <th>sigma</th>\n",
       "      <th></th>\n",
       "      <th></th>\n",
       "      <th></th>\n",
       "    </tr>\n",
       "  </thead>\n",
       "  <tbody>\n",
       "    <tr>\n",
       "      <th>0.5</th>\n",
       "      <td>0.545455</td>\n",
       "      <td>1.0</td>\n",
       "      <td>1.833333</td>\n",
       "    </tr>\n",
       "    <tr>\n",
       "      <th>1.0</th>\n",
       "      <td>0.307692</td>\n",
       "      <td>1.0</td>\n",
       "      <td>3.250000</td>\n",
       "    </tr>\n",
       "    <tr>\n",
       "      <th>1.5</th>\n",
       "      <td>0.214286</td>\n",
       "      <td>1.0</td>\n",
       "      <td>4.666667</td>\n",
       "    </tr>\n",
       "  </tbody>\n",
       "</table>\n",
       "</div>"
      ],
      "text/plain": [
       "alpha      0.25  0.50      0.75\n",
       "sigma                          \n",
       "0.5    0.545455   1.0  1.833333\n",
       "1.0    0.307692   1.0  3.250000\n",
       "1.5    0.214286   1.0  4.666667"
      ]
     },
     "metadata": {},
     "output_type": "display_data"
    }
   ],
   "source": [
    "# create DataFrame \n",
    "df = pd.DataFrame({'alpha': alpha_list, 'sigma': sigma_list, 'HF/HM': HF_HM_list})\n",
    "\n",
    "# convert the DataFrame into a pivot table\n",
    "table = pd.pivot_table(df, values='HF/HM', index='sigma', columns='alpha')\n",
    "\n",
    "# display the pivot table\n",
    "display(table)"
   ]
  },
  {
   "attachments": {},
   "cell_type": "markdown",
   "metadata": {},
   "source": [
    "From the table, it is apparent that, all else being equal, a higher value of $\\alpha$ - which determines women's productivity in home production relative to men - results in a larger amount of home production for women.\n",
    "\n",
    "The elasticity of substitution, $\\sigma$, greatly depends on the value of $\\alpha$. Therefore, a low value of $\\alpha$ and a high value of $\\sigma$ result in a lower amount of home production for women. The interpretation is that men are more productive at home than women given a low value of $\\alpha$, and it is easier to substitute home production for market production - vice versa.\n",
    "\n"
   ]
  },
  {
   "cell_type": "markdown",
   "metadata": {},
   "source": [
    "# Question 2"
   ]
  },
  {
   "attachments": {},
   "cell_type": "markdown",
   "metadata": {},
   "source": [
    "I solved question 2 using a method very similar to that of question 1, with the exception that I utilized `numpy` to take logarithms."
   ]
  },
  {
   "cell_type": "code",
   "execution_count": 11,
   "metadata": {},
   "outputs": [],
   "source": [
    "# call the model\n",
    "model = HouseholdSpecializationModelClass()\n",
    "\n",
    "# call model.solve_wF_vec() for the discrete case\n",
    "model.solve_wF_vec(discrete=True)\n",
    "\n",
    "# calculate log(HF/HM) and log(wF/wM) for the discrete case\n",
    "dis_log_HF_HM = np.log(model.sol.HF_vec / model.sol.HM_vec)\n",
    "dis_log_wF_wM = np.log(model.par.wF_vec / model.par.wM)\n",
    "\n",
    "# print the lists\n",
    "#print(f'Discrete case:\\nlog(HF/HM) = {dis_log_HF_HM}\\nlog(wF/wM) = {dis_log_wF_wM}')"
   ]
  },
  {
   "cell_type": "code",
   "execution_count": 6,
   "metadata": {},
   "outputs": [
    {
     "data": {
      "image/png": "[encoded data removed]",
      "text/plain": [
       "<Figure size 640x480 with 1 Axes>"
      ]
     },
     "metadata": {},
     "output_type": "display_data"
    }
   ],
   "source": [
    "# figure\n",
    "fig = plt.figure()\n",
    "\n",
    "# plot\n",
    "ax = fig.add_subplot(1,1,1)\n",
    "ax.plot(dis_log_wF_wM,dis_log_HF_HM)\n",
    "\n",
    "# set title, x- and y-label. \n",
    "ax.set_title('Figure 1: $log(H_F/H_M)$ against $log(w_F/w_M)$ for variying $w_F$')\n",
    "ax.set_xlabel('$log(w_F/w_M)$')\n",
    "ax.set_ylabel('$log(H_F/H_M)$');"
   ]
  },
  {
   "attachments": {},
   "cell_type": "markdown",
   "metadata": {},
   "source": [
    "Based on the graph, one can draw a normative economic conclusion that as women's earnings relative to men's increase, their engagement in home production decreases relative to men."
   ]
  },
  {
   "cell_type": "markdown",
   "metadata": {},
   "source": [
    "# Question 3"
   ]
  },
  {
   "attachments": {},
   "cell_type": "markdown",
   "metadata": {},
   "source": [
    "Similarly to question two, the approach remains unchanged except that I solve continuously for $L_M$, $L_F$, $H_M$, and $H_F$ instead of discretely using `scipy`.\n",
    "<br>\n",
    "This modification should eliminate the kink in figure 1, albeit dull, it should enhance the visual appeal."
   ]
  },
  {
   "cell_type": "code",
   "execution_count": 16,
   "metadata": {},
   "outputs": [],
   "source": [
    "# call the model\n",
    "model = HouseholdSpecializationModelClass()\n",
    "\n",
    "# call model.solve_wF_vec() for the continuous case\n",
    "model.solve_wF_vec(discrete=False)\n",
    "\n",
    "# calculate log(HF/HM) and log(wF/wM) for the continuous case\n",
    "c_log_HF_HM = np.log(model.sol.HF_vec / model.sol.HM_vec)\n",
    "c_log_wF_wM = np.log(model.par.wF_vec / model.par.wM)\n",
    "\n",
    "# print the lists\n",
    "#print(f'Continuous case:\\nlog(HF/HM) = {c_log_HF_HM}\\nlog(wF/wM) = {c_log_wF_wM}')\n"
   ]
  },
  {
   "cell_type": "code",
   "execution_count": 8,
   "metadata": {},
   "outputs": [
    {
     "data": {
      "image/png": "[encoded data removed]",
      "text/plain": [
       "<Figure size 640x480 with 1 Axes>"
      ]
     },
     "metadata": {},
     "output_type": "display_data"
    }
   ],
   "source": [
    "# figure\n",
    "fig = plt.figure()\n",
    "\n",
    "# plot\n",
    "ax = fig.add_subplot(1,1,1)\n",
    "ax.plot(c_log_wF_wM,c_log_HF_HM)\n",
    "\n",
    "# set title, x- and y-label\n",
    "ax.set_title('Figure 2: $log(H_F/H_M)$ against $log(w_F/w_M)$ for variying $w_F$')\n",
    "ax.set_xlabel('$log(w_F/w_M)$')\n",
    "ax.set_ylabel('$log(H_F/H_M)$');"
   ]
  },
  {
   "attachments": {},
   "cell_type": "markdown",
   "metadata": {},
   "source": [
    "The kinks are eliminated!.. Besides that; the conclusion are unchanged."
   ]
  },
  {
   "attachments": {},
   "cell_type": "markdown",
   "metadata": {},
   "source": [
    "# Question 4"
   ]
  },
  {
   "attachments": {},
   "cell_type": "markdown",
   "metadata": {},
   "source": [
    "Here it gets interesting! And... maybe not so much.\n",
    "<br>\n",
    "All code for minimizing the sqaured residuals are in `inauguralproject.py`."
   ]
  },
  {
   "cell_type": "code",
   "execution_count": 9,
   "metadata": {},
   "outputs": [
    {
     "name": "stdout",
     "output_type": "stream",
     "text": [
      "For alpha = 0.982 and sigma = 0.100 the squared errors are minimized such that:\n",
      "beta0 = 0.400\n",
      "beta1 = -0.100\n"
     ]
    }
   ],
   "source": [
    "model.estimate()\n",
    "\n",
    "print(f\"For alpha = {model.sol.alpha:.3f} and sigma = {model.sol.sigma:.3f} the squared errors are minimized such that:\\n\\\n",
    "beta0 = {model.sol.beta0:.3f}\\n\\\n",
    "beta1 = {model.sol.beta1:.3f}\")"
   ]
  },
  {
   "attachments": {},
   "cell_type": "markdown",
   "metadata": {},
   "source": [
    "Luckily, the results are interesting. In order to minimize the squared residuals, a high value of $\\alpha$ and a low value of $\\sigma$ are required. This finding leads to a more economically positivistic conclusion: women's home productivity is significantly higher than men's, and the substitutability between working at home and in the market is very low.\n",
    "\n",
    "This may also be infered from the high $\\beta_0\\approx0.4$ and the sign of $\\beta_1\\approx-0.1$"
   ]
  },
  {
   "attachments": {},
   "cell_type": "markdown",
   "metadata": {},
   "source": [
    "# Question 5"
   ]
  },
  {
   "attachments": {},
   "cell_type": "markdown",
   "metadata": {},
   "source": [
    "I am sorry, but I did not have time."
   ]
  }
 ],
 "metadata": {
  "kernelspec": {
   "display_name": "base",
   "language": "python",
   "name": "python3"
  },
  "language_info": {
   "codemirror_mode": {
    "name": "ipython",
    "version": 3
   },
   "file_extension": ".py",
   "mimetype": "text/x-python",
   "name": "python",
   "nbconvert_exporter": "python",
   "pygments_lexer": "ipython3",
   "version": "3.9.16"
  },
  "toc-autonumbering": true,
  "vscode": {
   "interpreter": {
    "hash": "47ef90cdf3004d3f859f1fb202523c65c07ba7c22eefd261b181f4744e2d0403"
   }
  }
 },
 "nbformat": 4,
 "nbformat_minor": 4
}
