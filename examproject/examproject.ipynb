{
 "cells": [
  {
   "attachments": {},
   "cell_type": "markdown",
   "metadata": {},
   "source": [
    "**Table of contents**<a id='toc0_'></a>    \n",
    "- 1. [Problem 1: Optimal taxation with government consumption](#toc1_)    \n",
    "- 2. [Problem 2: Labor adjustment costs](#toc2_)    \n",
    "- 3. [Problem 3: Global optimizer with refined multi-start](#toc3_)    \n",
    "\n",
    "<!-- vscode-jupyter-toc-config\n",
    "\tnumbering=true\n",
    "\tanchor=true\n",
    "\tflat=false\n",
    "\tminLevel=2\n",
    "\tmaxLevel=6\n",
    "\t/vscode-jupyter-toc-config -->\n",
    "<!-- THIS CELL WILL BE REPLACED ON TOC UPDATE. DO NOT WRITE YOUR TEXT IN THIS CELL -->"
   ]
  },
  {
   "attachments": {},
   "cell_type": "markdown",
   "metadata": {},
   "source": [
    "Imports and set magics:"
   ]
  },
  {
   "cell_type": "code",
   "execution_count": null,
   "metadata": {},
   "outputs": [],
   "source": [
    "# Import modules\n",
    "import sympy as sm\n",
    "import numpy as np\n",
    "import random\n",
    "from scipy import optimize\n",
    "import matplotlib.pyplot as plt\n",
    "import warnings\n",
    "\n",
    "# Autoreload modules when code is run. Otherwise, python will not see recent changes. \n",
    "%load_ext autoreload\n",
    "%autoreload 2\n",
    "\n",
    "# Predefine options for all plots\n",
    "plt.rcParams.update({\"axes.grid\":True,\"grid.color\":\"black\",\"grid.alpha\":\"0.25\",\"grid.linestyle\":\"-\"})\n",
    "plt.rcParams.update({'font.size': 10})\n"
   ]
  },
  {
   "attachments": {},
   "cell_type": "markdown",
   "metadata": {},
   "source": [
    "## 1. <a id='toc1_'></a>[Problem 1: Optimal taxation with government consumption](#toc0_)"
   ]
  },
  {
   "attachments": {},
   "cell_type": "markdown",
   "metadata": {},
   "source": [
    "Consider a worker choosing hours of labor, $L\\in[0,24]$, to maximize utility: \n",
    "\n",
    "$$\n",
    "\\begin{align*}\n",
    "V(w,\\tau,G)&=\\max_{L\\in[0,24]}\\ln\\left(C^{\\alpha}G^{1-\\alpha}\\right)-\\nu\\frac{L^{2}}{2}\\\\&\\text{s.t.}\\\\&C=\\kappa+(1-\\tau)wL\n",
    "\\end{align*}\n",
    "$$\n",
    "\n",
    "where \n",
    "\n",
    "* $C$ is *private* consumption with weight $\\alpha\\in(0,1)$.\n",
    "* $\\kappa > 0$ is the *free private* consumption component.\n",
    "* $C = (1-\\tau)wL$ is the *costly private* consumption component.\n",
    "* $w > 0 $ is the real wage.\n",
    "* $\\tau \\in (0,1)$ is the labor-income tax rate.\n",
    "* $G > 0 $ is *government* consumption with weight $1-\\alpha$.\n",
    "* $\\nu > 0$ is the disutility of labor scaling factor"
   ]
  },
  {
   "attachments": {},
   "cell_type": "markdown",
   "metadata": {},
   "source": [
    "The baseline parameters are:\n",
    "\n",
    "$$\n",
    "\\begin{align*}\n",
    "\\alpha &= 0.5\\\\\n",
    "\\kappa &= 1.0\\\\\n",
    "\\nu &= \\frac{1}{2\\cdot16^2} \\\\\n",
    "w &= 1.0 \\\\ \n",
    "\\tau &= 0.30 \\\\\n",
    "\\end{align*}\n",
    "$$"
   ]
  },
  {
   "attachments": {},
   "cell_type": "markdown",
   "metadata": {},
   "source": [
    "**Question 1:** Verify that the optimal labor supply choice is $L^{\\star}(\\tilde{w}) =\\frac{-\\kappa+\\sqrt{\\kappa^{2}+4\\frac{\\alpha}{\\nu}\\tilde{w}^2}}{2\\tilde{w}}$, where $\\tilde{w} = (1-\\tau)w$, for $G\\in\\left\\{1.0 , 2.0\\right\\}$."
   ]
  },
  {
   "attachments": {},
   "cell_type": "markdown",
   "metadata": {},
   "source": [
    "To verify the optimal labor supply choice given net wages, I use `SymPy`. <br>\n",
    "Since `SumPy` cannot create the tilde symbol for net wages, I use $\\varpi$."
   ]
  },
  {
   "cell_type": "code",
   "execution_count": null,
   "metadata": {},
   "outputs": [],
   "source": [
    "# Create SymPy symbols for the variables and parameters\n",
    "C, G, L, alpha, nu, kappa, tau, w, varpi = sm.symbols('C, G, L, alpha, nu, kappa, tau, w, varpi')\n",
    "\n",
    "# Set the utility function\n",
    "utility_func = sm.log(C**alpha * G**(1-alpha)) - nu * L**2 / 2\n",
    "\n",
    "# Set consumption function with net wages [(1 - tau) * w] as varpi\n",
    "consumption_func = kappa + varpi * L\n",
    "\n",
    "# Substitute the consumption function into C in the utility function\n",
    "utility_func = utility_func.subs(C, consumption_func)\n",
    "\n",
    "# Find the derivate of the utility function w.r.t. L\n",
    "derivative_of_utility_func = sm.diff(utility_func, L)\n",
    "\n",
    "# Solve the derivative equal to zero for L\n",
    "optimal_labor = sm.solve(derivative_of_utility_func, L)\n",
    "\n",
    "# Since labor has to be larger than or equal than zero\n",
    "optimal_labor = optimal_labor[1]\n",
    "\n",
    "# Display\n",
    "optimal_labor"
   ]
  },
  {
   "attachments": {},
   "cell_type": "markdown",
   "metadata": {},
   "source": [
    "Since `SymPy` cannot simplify any further, I do the last bit of simplification:\n",
    "\n",
    "$$\n",
    "\\begin{align*}\n",
    "\\frac{{-k\\nu + \\sqrt{{v(\\kappa^2 \\nu + 4\\alpha\\varpi^2)}}}}{{2\\nu\\varpi}} = \\frac{{-k + \\sqrt{{\\frac{{\\kappa^2 \\nu + 4\\alpha\\varpi^2}}{{\\nu}}}}}}{{2\\varpi}} = \\frac{{-k + \\sqrt{{\\kappa^2 + 4\\frac{{\\alpha}}{{\\nu}}\\varpi^2}}}}{{2\\varpi}}\n",
    "\\end{align*}\n",
    "$$\n",
    "\n",
    "Q.E.D."
   ]
  },
  {
   "attachments": {},
   "cell_type": "markdown",
   "metadata": {},
   "source": [
    "**Question 2:** Illustrate how $L^{\\star}(\\tilde{w})$ depends on $w$."
   ]
  },
  {
   "attachments": {},
   "cell_type": "markdown",
   "metadata": {},
   "source": [
    "To illustrate how optimal labor supply depends on wages, I set parameters and a grid of wages, create a function for optimal labor, run the function for a range of wages and save the results. Lastly, I plot the results for a vector of wages."
   ]
  },
  {
   "attachments": {},
   "cell_type": "markdown",
   "metadata": {},
   "source": [
    "Set parameters and grid of wages:"
   ]
  },
  {
   "cell_type": "code",
   "execution_count": null,
   "metadata": {},
   "outputs": [],
   "source": [
    "# Set parameters\n",
    "alpha_val = 0.5\n",
    "kappa_val = 1.0\n",
    "nu_val = 1 / (2 * 16**2)\n",
    "tau_val = 0.30\n",
    "w_val = 1.0\n",
    "\n",
    "# Set grid of wages\n",
    "w_vals = np.linspace(0.1, 5, 100)"
   ]
  },
  {
   "attachments": {},
   "cell_type": "markdown",
   "metadata": {},
   "source": [
    "Create a function for optimal labor and save the results:"
   ]
  },
  {
   "cell_type": "code",
   "execution_count": null,
   "metadata": {},
   "outputs": [],
   "source": [
    "# Create function for optimal labor given the parameters\n",
    "def optimal_labor_func(alpha, kappa, nu, tau, w):\n",
    "    return (-kappa + np.sqrt(kappa**2 + 4 * (alpha / nu) * ((1 - tau) * w)**2)) / (2 * ((1 - tau) * w))\n",
    "\n",
    "# Run the function for a range of wages and save the results\n",
    "optimal_labor_values = optimal_labor_func(alpha_val, kappa_val, nu_val, tau_val, w_vals)"
   ]
  },
  {
   "attachments": {},
   "cell_type": "markdown",
   "metadata": {},
   "source": [
    "Plot the results:"
   ]
  },
  {
   "cell_type": "code",
   "execution_count": null,
   "metadata": {},
   "outputs": [],
   "source": [
    "# Plot the function\n",
    "# Create a figure\n",
    "fig = plt.figure()\n",
    "\n",
    "# Set x- and y-axis\n",
    "ax = fig.add_subplot(1,1,1)\n",
    "ax.plot(w_vals,optimal_labor_values)\n",
    "\n",
    "# Set title, x- and y-label. \n",
    "ax.set_title('Figure 1: Optimal Labor as a Function of Wages')\n",
    "ax.set_xlabel('Wages')\n",
    "ax.set_ylabel('Optimal Labor Supply');\n",
    "\n",
    "# Display plot\n",
    "plt.show();"
   ]
  },
  {
   "attachments": {},
   "cell_type": "markdown",
   "metadata": {},
   "source": [
    "Figure 1 illustrates that optimal labor rises with wages. Initially, there is a sharp increase in labor hours as wages increase. However, the marginal utility gained from higher wages diminishes significantly beyond a certain point, causing a positive and decreasing slope. The decrease may be interpreted as workers placing an incrementally higher value on leisure as their earnings and working hours increase."
   ]
  },
  {
   "attachments": {},
   "cell_type": "markdown",
   "metadata": {},
   "source": [
    "\n",
    "We now consider a government, who chooses $\\tau$ and spend all of the taxes on government consumption so:\n",
    "\n",
    "$$\n",
    "G = \\tau w L^{\\star}((1-\\tau)w)\n",
    "$$\n",
    "\n",
    "**Question 3:** Plot the implied $L$, $G$ and worker utility for a grid of $\\tau$-values.\n"
   ]
  },
  {
   "attachments": {},
   "cell_type": "markdown",
   "metadata": {},
   "source": [
    "Set parameters, a grid of tax rates, and initialize empty lists:"
   ]
  },
  {
   "cell_type": "code",
   "execution_count": null,
   "metadata": {},
   "outputs": [],
   "source": [
    "# Set parameters\n",
    "alpha_val = 0.5\n",
    "kappa_val = 1.0\n",
    "nu_val = 1 / (2 * 16**2)\n",
    "tau_val = 0.3\n",
    "w_val = 1.0\n",
    "\n",
    "# Set grid of tax rates\n",
    "tau_vals = np.linspace(0, 1, 100)\n",
    "\n",
    "# Initialize empty lists\n",
    "L_star_vals = []\n",
    "G_vals = []\n",
    "V_vals = []"
   ]
  },
  {
   "attachments": {},
   "cell_type": "markdown",
   "metadata": {},
   "source": [
    "Create a function to find implied $L, G$ and $V$:"
   ]
  },
  {
   "cell_type": "code",
   "execution_count": null,
   "metadata": {},
   "outputs": [],
   "source": [
    "# Create a function to find the implied L, G and V\n",
    "def implied_L_G_V(alpha, kappa, nu, tau, w):\n",
    "    L_star = optimal_labor_func(alpha, kappa, nu, tau, w)\n",
    "\n",
    "    # Calculate goverment consumption\n",
    "    G = tau * w * L_star\n",
    "\n",
    "    # Calculate private consumption\n",
    "    C = kappa + (1 - tau) * w * L_star\n",
    "\n",
    "    # Calculate utility\n",
    "    V = np.log(C**alpha * G**(1 - alpha)) - nu * (L_star**2 / 2)\n",
    "\n",
    "    return L_star, G, V"
   ]
  },
  {
   "attachments": {},
   "cell_type": "markdown",
   "metadata": {},
   "source": [
    "Calculate the implied values given the values of $\\tau$:"
   ]
  },
  {
   "cell_type": "code",
   "execution_count": null,
   "metadata": {},
   "outputs": [],
   "source": [
    "# Calculate implied_L_G_V for the values of tau\n",
    "for tau in tau_vals:\n",
    "\n",
    "    # Ignore warnings once\n",
    "    warnings.filterwarnings('ignore')\n",
    "\n",
    "    # Call the function implied_L_G_V\n",
    "    L_star, G, V = implied_L_G_V(alpha_val, kappa_val, nu_val, tau, w_val)\n",
    "\n",
    "    # Store results\n",
    "    L_star_vals.append(L_star)\n",
    "    G_vals.append(G)\n",
    "    V_vals.append(V)\n"
   ]
  },
  {
   "attachments": {},
   "cell_type": "markdown",
   "metadata": {},
   "source": [
    "Plot the results:"
   ]
  },
  {
   "cell_type": "code",
   "execution_count": null,
   "metadata": {},
   "outputs": [],
   "source": [
    "# Plot the implied functions\n",
    "fig, (ax1, ax2, ax3) = plt.subplots(1, 3, figsize=(16, 5))\n",
    "\n",
    "## Figure 1\n",
    "# Set x- and y-axis\n",
    "ax1.plot(tau_vals, L_star_vals)\n",
    "\n",
    "# Set title, x- and y-label. \n",
    "ax1.set_title('Figure 2: Optimal Labor')\n",
    "ax1.set_xlabel('Tax Rate')\n",
    "ax1.set_ylabel('Optimal Labor Supply')\n",
    "\n",
    "## Figure 2\n",
    "# Set x- and y-axis\n",
    "ax2.plot(tau_vals, G_vals)\n",
    "\n",
    "# Set title, x- and y-label. \n",
    "ax2.set_title('Figure 3: Goverments Consumption')\n",
    "ax2.set_xlabel('Taxe Rate')\n",
    "ax2.set_ylabel('Goverment Consumption')\n",
    "\n",
    "## Figure 3\n",
    "# Set x- and y-axis\n",
    "ax3.plot(tau_vals, V_vals)\n",
    "\n",
    "# Set title, x- and y-label. \n",
    "ax3.set_title('Figure 4: Utility')\n",
    "ax3.set_xlabel('Tax Rate ')\n",
    "ax3.set_ylabel('Utility')\n",
    "\n",
    "# Display plot\n",
    "plt.show();"
   ]
  },
  {
   "attachments": {},
   "cell_type": "markdown",
   "metadata": {},
   "source": [
    "Figure 2 illustrates that the optimal labor decreases as the tax rate increases, a correlation in line with intuition, as lower net wages often result in reduced work effort. Figure 3 shows that government consumption rises concerning increasing tax rates, which is logical given that the consumption function utilizes all available revenue. However, there's a critical point where government consumption significantly decreases due to the falling labor supply.\n",
    "Further examination of Figure 4 indicates an initial rise in worker utility in correlation with tax increases up to a certain threshold. Beyond this point, a sharp decline in worker utility aligns well with $alpha = 0.5$."
   ]
  },
  {
   "attachments": {},
   "cell_type": "markdown",
   "metadata": {},
   "source": [
    "**Question 4:** Find the socially optimal tax rate $\\tau^{\\star}\\in(0,1)$ maximizing worker utility. Illustrate your result."
   ]
  },
  {
   "attachments": {},
   "cell_type": "markdown",
   "metadata": {},
   "source": [
    "To find the tax rate that maximizes worker utility, I create an objective function that calculates utility as function $\\tau$ and use `SciPy.Optimize` to find an optimal solution. "
   ]
  },
  {
   "cell_type": "code",
   "execution_count": null,
   "metadata": {},
   "outputs": [],
   "source": [
    "# Create an objective function which calculates negative utility as a function of tau\n",
    "def objective(tau):\n",
    "    L_star, G, V = implied_L_G_V(alpha_val, kappa_val, nu_val, tau, w_val)\n",
    "    return -V\n",
    "\n",
    "# Set initial guess\n",
    "initial_guess = 0.5\n",
    "\n",
    "# Set bounds\n",
    "bounds = [(0.3, 0.7)]\n",
    "\n",
    "# Call solver\n",
    "sol = optimize.minimize(fun = objective, x0 = initial_guess, bounds = bounds)\n",
    "\n",
    "# Print solution\n",
    "print(f\"Tax rate:{sol.x[0]:.3f}, Utility:{-sol.fun:.3f}\")\n"
   ]
  },
  {
   "attachments": {},
   "cell_type": "markdown",
   "metadata": {},
   "source": [
    "I illustrate the result."
   ]
  },
  {
   "cell_type": "code",
   "execution_count": null,
   "metadata": {},
   "outputs": [],
   "source": [
    "# Create a figure\n",
    "fig = plt.figure()\n",
    "\n",
    "# Set x- and y-axis\n",
    "ax = fig.add_subplot(1,1,1)\n",
    "ax.plot(tau_vals, V_vals)\n",
    "\n",
    "# Set title, x- and y-label. \n",
    "ax.set_title('Figure 5: Utility')\n",
    "ax.set_xlabel('Taxes')\n",
    "ax.set_ylabel('Utility')\n",
    "\n",
    "# Plot a single point\n",
    "ax.scatter(sol.x, -sol.fun, color=\"red\")\n",
    "\n",
    "# Add text to the point\n",
    "ax.text(sol.x, -sol.fun, fr'$\\tau$={sol.x[0]:.3f}, $V$={-sol.fun:.3f}', fontsize=10)\n",
    "\n",
    "# Display plot\n",
    "plt.show();\n"
   ]
  },
  {
   "attachments": {},
   "cell_type": "markdown",
   "metadata": {},
   "source": [
    "## 2. <a id='toc2_'></a>[Problem 2: Labor adjustment costs](#toc0_)"
   ]
  },
  {
   "attachments": {},
   "cell_type": "markdown",
   "metadata": {},
   "source": [
    "You own a hair salon. You employ hairdressers, $\\ell_t$, to produce haircuts, $y_t = \\ell_t$.\n",
    "\n",
    "The wage for each haridresser is $w$.\n",
    "\n",
    "The demand for haircuts implies that the price of haircuts you can charge is $p_t = \\kappa_t y_t^{-\\eta}$, where $\\kappa_t$ is a demand-shock and $\\eta \\in (0,1)$ measures the elasticity of demand.\n",
    "\n",
    "Profits are:\n",
    "\n",
    "$$\n",
    "\\Pi_t = p_t y_t - w \\ell_t = \\kappa_t \\ell_t^{1-\\eta} - w \\ell_t\n",
    "$$"
   ]
  },
  {
   "attachments": {},
   "cell_type": "markdown",
   "metadata": {},
   "source": [
    "Baseline parameters are:\n",
    "- $\\eta = 0.5$\n",
    "- $w = 1.0$"
   ]
  },
  {
   "attachments": {},
   "cell_type": "markdown",
   "metadata": {},
   "source": [
    "**Question 1:** Verify numerically that $\\ell_{t}=\\left(\\frac{(1-\\eta)\\kappa_{t}}{w}\\right)^{\\frac{1}{\\eta}}$ maximises profits, for $\\kappa\\in\\left\\{1.0 , 2.0\\right\\}$."
   ]
  },
  {
   "attachments": {},
   "cell_type": "markdown",
   "metadata": {},
   "source": [
    "Set parameters:"
   ]
  },
  {
   "cell_type": "code",
   "execution_count": null,
   "metadata": {},
   "outputs": [],
   "source": [
    "# Set parameters\n",
    "eta = 0.5\n",
    "w  = 1.0\n",
    "kappa_vals = [1.0, 2.0]"
   ]
  },
  {
   "attachments": {},
   "cell_type": "markdown",
   "metadata": {},
   "source": [
    "Create functions to calculate profits and profit-maximizing labor. "
   ]
  },
  {
   "cell_type": "code",
   "execution_count": null,
   "metadata": {},
   "outputs": [],
   "source": [
    "# Create function to calculate profits\n",
    "def negative_profit(l, kappa, eta, w):\n",
    "    return - (kappa * l**(1 - eta) - w * l)\n",
    "\n",
    "# Create function to calculate profit-maximizing labor\n",
    "def labor(kappa, eta, w):\n",
    "    return (((1 - eta) * kappa) / w)**(1 / eta)"
   ]
  },
  {
   "attachments": {},
   "cell_type": "markdown",
   "metadata": {},
   "source": [
    "I solve the profit function for labor using `SciPy.minimize`."
   ]
  },
  {
   "cell_type": "code",
   "execution_count": null,
   "metadata": {},
   "outputs": [],
   "source": [
    "# Create dictionaries to store solutions\n",
    "l = {}\n",
    "sol = {}\n",
    "\n",
    "for i, kappa in enumerate(kappa_vals):\n",
    "    # Calculate labor given the formula \n",
    "    l[i] = labor(kappa_vals[i], eta, w)\n",
    "\n",
    "    # Create an initial guess\n",
    "    initial_guess = 0.5\n",
    "\n",
    "    # Set bounds\n",
    "    bounds = [(0.1, 2)]\n",
    "\n",
    "    # Optimize negative_profit for l\n",
    "    sol[i] = optimize.minimize(fun = negative_profit, x0 = initial_guess, bounds = bounds, args = (kappa_vals[i], eta, w))\n",
    "\n",
    "    # Print solutions\n",
    "    print(f\"For kappa = {kappa}, maximum profit is achieved at l = {sol[i].x}\")\n",
    "    print(f\"The formula suggests that the profit-maximizing value of labor is {l[i]}\")"
   ]
  },
  {
   "attachments": {},
   "cell_type": "markdown",
   "metadata": {},
   "source": [
    "The analytical and numerical values are very close to each other; thus, I can verify that $\\ell_{t}=\\left(\\frac{(1-\\eta)\\kappa_{t}}{w}\\right)^{\\frac{1}{\\eta}}$ maximizes profits, for $\\kappa\\in\\left\\{1.0 , 2.0\\right\\}$.\n",
    "<br>\n",
    "<br>"
   ]
  },
  {
   "attachments": {},
   "cell_type": "markdown",
   "metadata": {},
   "source": [
    "We now consider a *dynamic* version of the model.\n",
    "\n",
    "* The demand-shock is a so-called AR(1) in logs, \n",
    "\n",
    "$$\n",
    "\\log \\kappa_{t} = \\rho \\log \\kappa_{t-1} + \\epsilon_{t},\\,\\,\\, \\epsilon_{t+1} \\sim \\mathcal{N}(-0.5\\sigma_{\\epsilon}^2,\\sigma_{\\epsilon})\n",
    "$$\n",
    "\n",
    "* Any hiring or firing implies a fixed adjustment cost, $\\iota > 0 $.\n",
    "* Future profits are discounted with a monthly factor of $R \\in (0,1)$.\n",
    "\n",
    "The initial demand shock is $\\kappa_{-1} = 1$ and the planning horizon is 10 years, i.e. 120 months so $t \\in \\{0,1,2,\\dots,119\\}$. Initially you don't have any employees, $\\ell_{-1}=0$"
   ]
  },
  {
   "attachments": {},
   "cell_type": "markdown",
   "metadata": {},
   "source": [
    "\n",
    "The *ex post* value of the salon is *conditional* on the shock series is:\n",
    "\n",
    "$$\n",
    "h(\\epsilon_0,\\epsilon_1,\\dots,\\epsilon_{119}) = \\left[\\sum_{t=0}^{119}R^{-t}\\left[\\kappa_{t}\\ell_{t}^{1-\\eta}-w\\ell_{t}-\\boldsymbol{1}_{\\ell_{t}\\neq\\ell_{t-1}}\\iota\\right]\\right]\n",
    "$$\n",
    "\n",
    "The *ex ante* expected value of the salon can be approximated by\n",
    "\n",
    "$$\n",
    "H = \\mathbb{E}[h(\\epsilon_0,\\epsilon_1,\\dots,\\epsilon_{119})] \\approx \\frac{1}{K}\\sum_{k=0}^{K} h(\\epsilon_0^k,\\epsilon_1^k,\\dots,\\epsilon_{119}^k)\n",
    "$$\n",
    "\n",
    "where each $k\\in\\{0,1,\\dots,K-1\\}$ is a random shock series. Maximizing profitability means maximizing $H$.\n"
   ]
  },
  {
   "attachments": {},
   "cell_type": "markdown",
   "metadata": {},
   "source": [
    "Baseline parameters are: \n",
    "\n",
    "- $\\rho = 0.90$\n",
    "- $\\iota = 0.01$\n",
    "- $\\sigma_{\\epsilon} = 0.10$\n",
    "- $R = \\left(1+0.01\\right)^{1/12}$"
   ]
  },
  {
   "attachments": {},
   "cell_type": "markdown",
   "metadata": {},
   "source": [
    "**Question 2:** Calculate $H$ if the policy  $\\ell_{t}=\\left(\\frac{(1-\\eta)\\kappa_{t}}{w}\\right)^{\\frac{1}{\\eta}}$ from question 1 is followed. Choose $K$ so the approximation is good enough to not affect your results substantially."
   ]
  },
  {
   "attachments": {},
   "cell_type": "markdown",
   "metadata": {},
   "source": [
    "Set parameters:"
   ]
  },
  {
   "cell_type": "code",
   "execution_count": null,
   "metadata": {},
   "outputs": [],
   "source": [
    "# Set parameters\n",
    "eta = 0.5\n",
    "w  = 1.0\n",
    "\n",
    "rho = 0.90\n",
    "iota = 0.01\n",
    "\n",
    "sigma = 0.10\n",
    "R = (1 + 0.01)**(1 / 12)\n",
    "\n",
    "t = 120\n",
    "K = 10000"
   ]
  },
  {
   "attachments": {},
   "cell_type": "markdown",
   "metadata": {},
   "source": [
    "Define functions:"
   ]
  },
  {
   "cell_type": "code",
   "execution_count": null,
   "metadata": {},
   "outputs": [],
   "source": [
    "def demand_shock(rho, sigma, t):\n",
    "    # Initialize an array to store values of log_kappa\n",
    "    log_kappa = np.zeros(t)\n",
    "\n",
    "    # Set log_kappa for t = 0\n",
    "    log_kappa[0] = np.log(1)\n",
    "\n",
    "    # Calculate epsilon\n",
    "    epsilon = np.random.normal(-0.5 * sigma**2, sigma, size=t)\n",
    "\n",
    "    # Calculate log_kappa\n",
    "    for i in range(1, t):\n",
    "        log_kappa[i] = rho * log_kappa[i-1] + epsilon[i]\n",
    "\n",
    "    # Return kappa instead of log_kappa\n",
    "    kappa = np.exp(log_kappa)\n",
    "\n",
    "    return kappa\n",
    "\n",
    "def workers(kappa, eta, w, t):\n",
    "    # Initialize an array to store values of l\n",
    "    l = np.zeros(t)\n",
    "\n",
    "    # Set l for t = 0 \n",
    "    l[0] = 0\n",
    "\n",
    "    # Calculate l\n",
    "    for i in range(1, t):\n",
    "        l[i] = (((1 - eta) * kappa[i]) / w)**(1 / eta)\n",
    "\n",
    "    return l\n",
    "\n",
    "def post_value(kappa, eta, w, R, iota, t):\n",
    "    # Initialize an array to store values of h\n",
    "    hs = np.zeros(t)\n",
    "\n",
    "    # Call workers for l\n",
    "    l = workers(kappa, eta, w, t)\n",
    "\n",
    "    # Calculate h\n",
    "    for i in range(0, t):\n",
    "        if l[i] != l[i-1]:\n",
    "            hs[i] = R**(-i) * (kappa[i] * l[i]**(1-eta) - w * l[i] - iota)\n",
    "        else:\n",
    "            hs[i] = R**(-i) * (kappa[i] * l[i]**(1-eta) - w * l[i])\n",
    "\n",
    "    # Sum up all h\n",
    "    h = np.sum(hs)\n",
    "\n",
    "    return h\n",
    "\n",
    "def ante_value(rho, sigma, eta, w, R, iota, t, K):\n",
    "    # Initialize an array to store values of h\n",
    "    Hs = np.zeros(K)\n",
    "\n",
    "    for k in range(0, K):\n",
    "        # Call demand_shock for kappa\n",
    "        kappa = demand_shock(rho, sigma, t)\n",
    "        Hs[k] = post_value(kappa, eta, w, R, iota, t)\n",
    "\n",
    "    # Calculate mean of Hs\n",
    "    H = np.mean(Hs)\n",
    "\n",
    "    return H\n"
   ]
  },
  {
   "attachments": {},
   "cell_type": "markdown",
   "metadata": {},
   "source": [
    "Solve for $H$:"
   ]
  },
  {
   "cell_type": "code",
   "execution_count": null,
   "metadata": {},
   "outputs": [],
   "source": [
    "# Call function and find H \n",
    "H = ante_value(rho, sigma, eta, w, R, iota, t, K)\n",
    "\n",
    "# Print solution:\n",
    "print(f'The solution for H is {H:.3f}')"
   ]
  },
  {
   "attachments": {},
   "cell_type": "markdown",
   "metadata": {},
   "source": [
    "Next, we consider policies on the form:\n",
    "\n",
    "$$\n",
    "\n",
    "\\ell_{t}=\\begin{cases}\n",
    "\\ell_t^{\\ast}  & \\text{if }\\left|\\ell_{t-1}-\\ell_t^{\\ast} \\right|>\\Delta\\\\\n",
    "\\ell_{t-1} & \\text{else }\n",
    "\\end{cases}\n",
    "\\\\\n",
    "\\text{where}\\,\\,\\ell_t^{\\ast} = \\left(\\frac{(1-\\eta)\\kappa_{t}}{w}\\right)^{\\frac{1}{\\eta}} \\\\\n",
    "\n",
    "$$\n",
    "With $\\Delta \\geq 0$ and $\\Delta = 0$ being the previous policy.\n"
   ]
  },
  {
   "attachments": {},
   "cell_type": "markdown",
   "metadata": {},
   "source": [
    "\n",
    "**Question 3:** Calculate $H$ if the policy above was followed with $\\Delta = 0.05$. Does it improve profitability?"
   ]
  },
  {
   "attachments": {},
   "cell_type": "markdown",
   "metadata": {},
   "source": [
    "Set parameters:"
   ]
  },
  {
   "cell_type": "code",
   "execution_count": null,
   "metadata": {},
   "outputs": [],
   "source": [
    "# Set parameters\n",
    "eta = 0.5\n",
    "w  = 1.0\n",
    "\n",
    "rho = 0.90\n",
    "iota = 0.01\n",
    "delta = 0.05\n",
    "\n",
    "sigma = 0.10\n",
    "R = (1 + 0.01)**(1 / 12)\n",
    "\n",
    "t = 120\n",
    "K = 1000"
   ]
  },
  {
   "attachments": {},
   "cell_type": "markdown",
   "metadata": {},
   "source": [
    "Define functions:"
   ]
  },
  {
   "cell_type": "code",
   "execution_count": null,
   "metadata": {},
   "outputs": [],
   "source": [
    "def workers(kappa, eta, w, t, delta):\n",
    "    # Initialize an array to store values of l\n",
    "    l = np.zeros(t)\n",
    "\n",
    "    # Set l for t = 0 \n",
    "    l[0] = 0\n",
    "\n",
    "    # Calculate l\n",
    "    for i in range(1, t):\n",
    "        # Calculate l_star\n",
    "        l_star = (((1 - eta) * kappa[i]) / w)**(1 / eta)\n",
    "        \n",
    "        # Check the policy condition\n",
    "        if abs(l[i-1] - l_star) > delta:\n",
    "            l[i] = l_star\n",
    "        else:\n",
    "            l[i] = l[i-1]\n",
    "\n",
    "    return l\n",
    "\n",
    "def post_value(kappa, eta, w, R, iota, t, delta):\n",
    "    # Initialize an array to store values of h\n",
    "    hs = np.zeros(t)\n",
    "\n",
    "    # Call workers for l\n",
    "    l = workers(kappa, eta, w, t, delta)\n",
    "\n",
    "    # Calculate h\n",
    "    for i in range(0, t):\n",
    "        if l[i] != l[i-1]:\n",
    "            hs[i] = R**(-i) * (kappa[i] * l[i]**(1-eta) - w * l[i] - iota)\n",
    "        else:\n",
    "            hs[i] = R**(-i) * (kappa[i] * l[i]**(1-eta) - w * l[i])\n",
    "\n",
    "    # Sum up all h\n",
    "    h = np.sum(hs)\n",
    "\n",
    "    return h\n",
    "\n",
    "def ante_value(rho, sigma, eta, w, R, iota, t, K, delta):\n",
    "    # Initialize an array to store values of h\n",
    "    Hs = np.zeros(K)\n",
    "\n",
    "    for k in range(0, K):\n",
    "        # Call demand_shock for kappa\n",
    "        kappa = demand_shock(rho, sigma, t)\n",
    "        Hs[k] = post_value(kappa, eta, w, R, iota, t, delta)\n",
    "\n",
    "    # Calculate mean of Hs\n",
    "    H = np.mean(Hs)\n",
    "\n",
    "    return H\n"
   ]
  },
  {
   "attachments": {},
   "cell_type": "markdown",
   "metadata": {},
   "source": [
    "Solve for $H$:"
   ]
  },
  {
   "cell_type": "code",
   "execution_count": null,
   "metadata": {},
   "outputs": [],
   "source": [
    "# Call function for H\n",
    "H_delta = ante_value(rho, sigma, eta, w, R, iota, t, K, delta)\n",
    "\n",
    "# Print solution:\n",
    "print(f'The solution for H is {H_delta:.3f}')"
   ]
  },
  {
   "attachments": {},
   "cell_type": "markdown",
   "metadata": {},
   "source": [
    "The policy improves profitability since there are fewer costly hirings and firings on average. "
   ]
  },
  {
   "attachments": {},
   "cell_type": "markdown",
   "metadata": {},
   "source": [
    "**Question 4:** Find the optimal $\\Delta$ maximizing $H$. Illustrate your result."
   ]
  },
  {
   "attachments": {},
   "cell_type": "markdown",
   "metadata": {},
   "source": [
    "Since the function does not behave nicely (unsuitable for solvers), I implement a grid-solve to maximize the function. "
   ]
  },
  {
   "attachments": {},
   "cell_type": "markdown",
   "metadata": {},
   "source": [
    "Set parameters:"
   ]
  },
  {
   "cell_type": "code",
   "execution_count": null,
   "metadata": {},
   "outputs": [],
   "source": [
    "# Set parameters\n",
    "eta = 0.5\n",
    "w  = 1.0\n",
    "\n",
    "rho = 0.90\n",
    "iota = 0.01\n",
    "delta = 0.05\n",
    "\n",
    "sigma = 0.10\n",
    "R = (1 + 0.01)**(1 / 12)\n",
    "\n",
    "t = 120\n",
    "K = 100"
   ]
  },
  {
   "cell_type": "code",
   "execution_count": null,
   "metadata": {},
   "outputs": [],
   "source": [
    "# Set a grid of delta values\n",
    "delta_vals = np.linspace(0, 0.5, 100)\n",
    "\n",
    "# Initialize an array to store values of H\n",
    "H_vals = np.zeros(len(delta_vals))\n",
    "\n",
    "# Loop over each value in the grid\n",
    "for i in range(len(delta_vals)):\n",
    "\n",
    "    # For each delta value\n",
    "    delta = delta_vals[i]\n",
    "\n",
    "    # Calculate H\n",
    "    H_vals[i] = ante_value(rho, sigma, eta, w, R, iota, t, K, delta)\n",
    "\n",
    "# Find the index of the maximum H value\n",
    "optimal_delta = delta_vals[np.argmax(H_vals)]\n",
    "\n",
    "# Print solution\n",
    "print(f'The optimal delta that maximizes H is: {optimal_delta:.3f}')"
   ]
  },
  {
   "cell_type": "code",
   "execution_count": null,
   "metadata": {},
   "outputs": [],
   "source": [
    "# Create figure\n",
    "fig, ax = plt.subplots(figsize=(10,6))\n",
    "\n",
    "# Plot x- and y-values\n",
    "ax.plot(delta_vals, H_vals, label='H values')\n",
    "\n",
    "# Plot a vertical line at the optimal delta\n",
    "ax.axvline(x=optimal_delta, color='r', linestyle='--', label='Optimal Delta')\n",
    "\n",
    "# Set labels, legend and title\n",
    "ax.set_xlabel('Delta')\n",
    "ax.set_ylabel('H')\n",
    "ax.legend()\n",
    "ax.set_title(fr'Figure 6: Optimal $\\Delta$ Value for Maximizing $H$')\n",
    "\n",
    "# Display plot\n",
    "plt.show();"
   ]
  },
  {
   "attachments": {},
   "cell_type": "markdown",
   "metadata": {},
   "source": [
    "Since the function for $H$ is so rugged, I cannot give an exact answer, but the optimal $\\Delta$, which maximizes $H$, appears to be between $0.05$ and $0.20$ depending on the seed."
   ]
  },
  {
   "attachments": {},
   "cell_type": "markdown",
   "metadata": {},
   "source": [
    "## 3. <a id='toc3_'></a>[Problem 3: Global optimizer with refined multi-start](#toc0_)"
   ]
  },
  {
   "attachments": {},
   "cell_type": "markdown",
   "metadata": {},
   "source": [
    "We consider the Griewank function:\n",
    "\n",
    "$$ f(\\boldsymbol{x}) = \\sum^n_{i=1} \\frac{x^2_i}{4000}-\\prod^n_{i=1}\\cos\\left(\\frac{x_i}{\\sqrt{i}}\\right)+1$$\n",
    "\n",
    "The **global minimum** of this function is $f(0,0) = 0$ (remember: $\\cos(0)=1$).<br>\n",
    "But the function also have a lot of **local minima**."
   ]
  },
  {
   "cell_type": "code",
   "execution_count": null,
   "metadata": {},
   "outputs": [],
   "source": [
    "def griewank(x):\n",
    "    return griewank_(x[0],x[1])\n",
    "    \n",
    "def griewank_(x1,x2):\n",
    "    A = x1**2/4000 + x2**2/4000\n",
    "    B = np.cos(x1/np.sqrt(1))*np.cos(x2/np.sqrt(2))\n",
    "    return A-B+1"
   ]
  },
  {
   "attachments": {},
   "cell_type": "markdown",
   "metadata": {},
   "source": [
    "A **refined global optimizer with multi-start** is:\n",
    "\n",
    "1. Choose *bounds* for $\\mathbf{x}$ and *tolerance* $\\tau > 0$.\n",
    "2. Choose number of *warm-up iterations*, $\\underline{K} > 0$ and *maximum number of iterations*, $K > \\underline{K}$.\n",
    "3. In each iteration for $k \\in \\{0,1,\\dots,K-1\\}$:\n",
    "\n",
    "    A. Draw random $\\mathbf{x}^k$ uniformly within chosen bounds.\n",
    "\n",
    "    B. If $k < \\underline{K}$ go to step E.\n",
    "\n",
    "    C. Calculate $\\chi^k = 0.50\\cdot\\frac{2}{1+\\exp((k-\\underline{K})/100)}$  \n",
    "\n",
    "    D. Set $\\mathbf{x}^{k0} = \\chi^k \\mathbf{x}^k + (1-\\chi^k)\\mathbf{x}^{\\ast} $\n",
    "\n",
    "    E. Run optimizer with $\\mathbf{x}^{k0}$ as initial guess and $\\mathbf{x}^{k\\ast}$ as result.\n",
    "\n",
    "    F. Set $\\mathbf{x}^{\\ast} = \\mathbf{x}^{k\\ast}$ if $k = 0$ or $f(\\mathbf{x}^{k\\ast}) < f(\\mathbf{x}^{\\ast})$\n",
    "\n",
    "    G. If $f(\\mathbf{x}^{\\ast}) < \\tau$ go to step 4.\n",
    "\n",
    "4. Return the result $\\mathbf{x}^{\\ast}$."
   ]
  },
  {
   "attachments": {},
   "cell_type": "markdown",
   "metadata": {},
   "source": [
    "As settings we choose:\n",
    "\n",
    "* $x_1,x_2 \\in  [-600,600]$\n",
    "* $\\tau = 10^{-8}$\n",
    "* $\\underline{K}=10$\n",
    "* $K=1000$\n",
    "\n",
    "The optimizer in Step 3.E is `BFGS` with a tolerance of $\\tau$."
   ]
  },
  {
   "attachments": {},
   "cell_type": "markdown",
   "metadata": {},
   "source": [
    "**Question 1:** Implement the refined global optimizer with multi-start. Illustrate how the effective initial guesses $\\mathbf{x}^{k0}$ vary with the iteration counter $k$."
   ]
  },
  {
   "attachments": {},
   "cell_type": "markdown",
   "metadata": {},
   "source": [
    "Set-up of model:"
   ]
  },
  {
   "cell_type": "code",
   "execution_count": null,
   "metadata": {},
   "outputs": [],
   "source": [
    "# Set bounds\n",
    "bounds = [-600, 600]\n",
    "\n",
    "# Set tolerance for optimizer\n",
    "tol = 1e-8\n",
    "\n",
    "# Set warm-up and max iterations \n",
    "K_ = 10\n",
    "K = 1000"
   ]
  },
  {
   "attachments": {},
   "cell_type": "markdown",
   "metadata": {},
   "source": [
    "Initialize refined multi-start optimizer:"
   ]
  },
  {
   "cell_type": "code",
   "execution_count": null,
   "metadata": {},
   "outputs": [],
   "source": [
    "# Initialize refined multi-start optimizer\n",
    "def multi_start(tol = tol, bounds = bounds, K_ = K_, K = K, griewank = griewank, seed = 100):\n",
    "\n",
    "    # Set seed\n",
    "    np.random.seed(seed)\n",
    "    \n",
    "    # Set initial solutions\n",
    "    x_star = np.nan\n",
    "    fx_star = np.inf\n",
    "\n",
    "    # Store initial x_k0\n",
    "    x_k0s = []\n",
    "\n",
    "    for k in range(K):\n",
    "        # Draw two random numbers within bounds\n",
    "        x_k = np.random.uniform(bounds[0], bounds[1], 2)\n",
    "            \n",
    "        # If k < warm-up iterations \n",
    "        if k < K_:\n",
    "            # Set x_k0 to x_k and go to optimization\n",
    "            x_k0 = x_k\n",
    "        \n",
    "        else:\n",
    "            # Calculate chi^k\n",
    "            chi_k = 0.50 * (2 / (1+np.exp((k - K_) / 100)))\n",
    "\n",
    "            # Calculate x^k0\n",
    "            x_k0 = chi_k * x_k + (1 - chi_k) * x_star\n",
    "\n",
    "        x_k0s.append(x_k0)\n",
    "        \n",
    "        # Optimize the Griewank function for x_k0\n",
    "        sol = optimize.minimize(fun = griewank, x0 = x_k0 , method = 'BFGS', tol = tol)\n",
    "\n",
    "        # Store the optimizers solutions\n",
    "        x_k_star = sol.x\n",
    "        fx_k_star = sol.fun\n",
    "\n",
    "        # Check if the current solution is better than the previous solution\n",
    "        if k == 0 or fx_k_star < fx_star:\n",
    "            x_star = x_k_star\n",
    "            fx_star = fx_k_star\n",
    "\n",
    "        # Stop if solution is less than tolerance\n",
    "        if fx_star < tol:\n",
    "            break\n",
    "    \n",
    "    return x_star, fx_star, k, x_k0s"
   ]
  },
  {
   "attachments": {},
   "cell_type": "markdown",
   "metadata": {},
   "source": [
    "I call the function ` multi_start` and illustrate how $\\mathbf{x}^{k0}$ vary with the iteration counter $k$."
   ]
  },
  {
   "cell_type": "code",
   "execution_count": null,
   "metadata": {},
   "outputs": [],
   "source": [
    "# Call the function\n",
    "x_star, fx_star, k, x_k0s = multi_start(tol = tol, bounds = bounds, K_ = K_, K = K, griewank = griewank, seed = 100)\n",
    "\n",
    "# Convert x_k0s to a numpy array\n",
    "x_k0s = np.array(x_k0s)\n",
    "\n",
    "# Create figure\n",
    "fig, ax = plt.subplots(figsize=(10, 8))\n",
    "\n",
    "# Create a scatter plot of all the initial guesses (x_k0s), color-coded by iteration number\n",
    "scatter = ax.scatter(x_k0s[:, 0], x_k0s[:, 1], c=np.arange(len(x_k0s)), cmap='cividis')\n",
    "\n",
    "# Plot the optimal solution (x_star) as a red star\n",
    "ax.plot(x_star[0], x_star[1], 'r*', markersize=10)\n",
    "\n",
    "# Set labels and title\n",
    "ax.set_xlabel('$x_1$')\n",
    "ax.set_ylabel('$x_2$')\n",
    "ax.set_title('Figure 7: Variation of effective initial guesses $x^{k0}$ with iteration $k$')\n",
    "\n",
    "# Create a colorbar\n",
    "cbar = plt.colorbar(scatter, ax = ax)\n",
    "cbar.set_label('Iteration $k$')\n",
    "\n",
    "# Display plot\n",
    "plt.show();"
   ]
  },
  {
   "attachments": {},
   "cell_type": "markdown",
   "metadata": {},
   "source": [
    "**Question 2:** Is it a better idea to set $\\underline{K} = 100$? Is the convergence faster?"
   ]
  },
  {
   "attachments": {},
   "cell_type": "markdown",
   "metadata": {},
   "source": [
    "On average, the convergence seems slower for $\\underline{K} = 100$, but sometimes it is faster since the initial guess may be closer to global minima. <br> \n",
    "Overall, the speed of convergence largely depends on the chosen seed. To illustrate this, I call the multi-start function with $\\underline{K} = 10$ and $\\underline{K} = 100$, and calculate the mean and standard deviation of $k$ given the optimal values for a range of seed values. "
   ]
  },
  {
   "attachments": {},
   "cell_type": "markdown",
   "metadata": {},
   "source": [
    "Set up:"
   ]
  },
  {
   "cell_type": "code",
   "execution_count": null,
   "metadata": {},
   "outputs": [],
   "source": [
    "# Values of K_\n",
    "K_s = [10, 100]\n",
    "\n",
    "# Maximum seed\n",
    "max_seed = 30"
   ]
  },
  {
   "attachments": {},
   "cell_type": "markdown",
   "metadata": {},
   "source": [
    "Calculate the number of iterations for $\\underline{K} = 10$ and $\\underline{K} = 100$ given the seed values; this requires much computation and might take a while. "
   ]
  },
  {
   "cell_type": "code",
   "execution_count": null,
   "metadata": {},
   "outputs": [],
   "source": [
    "K_10_list = []\n",
    "K_100_list = []\n",
    "\n",
    "for seed in range(max_seed):\n",
    "    # Call functions for the values of K_\n",
    "    x_star_10, fx_star_10, k_10, x_k0s_10 = multi_start(tol = tol, bounds = bounds, K_ = K_s[0], K = K, griewank = griewank, seed = seed)\n",
    "\n",
    "    x_star_100, fx_star_100, k_100, x_k0s_100 = multi_start(tol = tol, bounds = bounds, K_ = K_s[1], K = K, griewank = griewank, seed = seed)\n",
    "\n",
    "    # Save iterations\n",
    "    K_10_list.append(k_10)\n",
    "\n",
    "    K_100_list.append(k_100)\n"
   ]
  },
  {
   "attachments": {},
   "cell_type": "markdown",
   "metadata": {},
   "source": [
    "Calculate mean and standard deviation of $k$:"
   ]
  },
  {
   "cell_type": "code",
   "execution_count": null,
   "metadata": {},
   "outputs": [],
   "source": [
    "# Calculate mean and standard deviation for K_10\n",
    "mean_K_10 = np.mean(K_10_list)\n",
    "stddev_K_10 = np.std(K_10_list)\n",
    "\n",
    "# Calculate mean and standard deviation for K_100\n",
    "mean_K_100 = np.mean(K_100_list)\n",
    "stddev_K_100 = np.std(K_100_list)\n",
    "\n",
    "# Print values\n",
    "print(f'For K_ = 10, mean = {mean_K_10:.2f} and std. dev. = {stddev_K_10:.2f}\\n'\n",
    "      f'For K_ = 100, mean = {mean_K_100:.2f} and std. dev. = {stddev_K_100:.2f}')"
   ]
  },
  {
   "attachments": {},
   "cell_type": "markdown",
   "metadata": {},
   "source": [
    "Plot histograms:"
   ]
  },
  {
   "cell_type": "code",
   "execution_count": null,
   "metadata": {},
   "outputs": [],
   "source": [
    "fig, ax = plt.subplots(figsize=(10, 8))\n",
    "\n",
    "# Plot histograms\n",
    "n_bins = 'fd'\n",
    "ax.hist(K_10_list, bins = n_bins, alpha = 0.5, color = 'skyblue', edgecolor = 'black', label = r'$K_{10}$')\n",
    "ax.hist(K_100_list, bins = n_bins, alpha = 0.5, color = 'salmon', edgecolor = 'black', label = r'$K_{100}$')\n",
    "\n",
    "# Set labels and title\n",
    "ax.set_xlabel('Number of iterations to converge')\n",
    "ax.set_ylabel('Frequency')\n",
    "ax.set_title('Figure 8: Histogram of Number of Iterations to Converge')\n",
    "ax.legend(loc='upper right')\n",
    "\n",
    "# Display plot\n",
    "plt.show()\n"
   ]
  },
  {
   "attachments": {},
   "cell_type": "markdown",
   "metadata": {},
   "source": [
    "The statistics and histogram show some seed values where $\\underline{K} = 100$ converges quicker than $\\underline{K} = 10$, though generally, $\\underline{K} = 10$ converges faster. This is only indicative, based on 30 seed values. Larger value plots are needed for more certainty but require significant computation."
   ]
  }
 ],
 "metadata": {
  "kernelspec": {
   "display_name": "base",
   "language": "python",
   "name": "python3"
  },
  "language_info": {
   "codemirror_mode": {
    "name": "ipython",
    "version": 3
   },
   "file_extension": ".py",
   "mimetype": "text/x-python",
   "name": "python",
   "nbconvert_exporter": "python",
   "pygments_lexer": "ipython3",
   "version": "3.9.16"
  },
  "orig_nbformat": 4
 },
 "nbformat": 4,
 "nbformat_minor": 2
}
