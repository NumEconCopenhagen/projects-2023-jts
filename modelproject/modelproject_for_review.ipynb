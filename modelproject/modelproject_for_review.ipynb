{
 "cells": [
  {
   "attachments": {},
   "cell_type": "markdown",
   "metadata": {},
   "source": [
    "# The Solow Model with Alternative Specifications for Human Capital"
   ]
  },
  {
   "attachments": {},
   "cell_type": "markdown",
   "metadata": {},
   "source": [
    "This project explores the Solow Model with alternative specifications for Human Capital. First, I present the Solow Model with Human Capital, then I derive analytical and numerical steady-state solutions, visualize the outcomes, and analyze parameter dependence. Lastly, I investigate an alternative human capital specification involving two distinct worker groups: highly educated and unskilled."
   ]
  },
  {
   "attachments": {},
   "cell_type": "markdown",
   "metadata": {},
   "source": [
    "Imports and set magics:"
   ]
  },
  {
   "cell_type": "code",
   "execution_count": 1,
   "metadata": {},
   "outputs": [],
   "source": [
    "import numpy as np\n",
    "from scipy import optimize\n",
    "import sympy as sm\n",
    "\n",
    "# autoreload modules when code is run\n",
    "%load_ext autoreload\n",
    "%autoreload 2\n",
    "\n",
    "# my modules\n",
    "import random\n",
    "import matplotlib.pyplot as plt\n",
    "\n",
    "# local modules\n",
    "from modelproject import n_ss_solow, multi_start, null_clines\n",
    "\n",
    "# Predefined options for all plots\n",
    "plt.rcParams.update({\"axes.grid\":True,\"grid.color\":\"black\",\"grid.alpha\":\"0.25\",\"grid.linestyle\":\"-\"})\n",
    "plt.rcParams.update({'font.size': 12})"
   ]
  },
  {
   "attachments": {},
   "cell_type": "markdown",
   "metadata": {},
   "source": [
    "## The Solow Model with Human Capital"
   ]
  },
  {
   "attachments": {},
   "cell_type": "markdown",
   "metadata": {},
   "source": [
    "The Solow Model with Human Capital is given by:\n",
    "\\begin{aligned}\n",
    "    Y_{t} &= K^{\\alpha}_{t}H^{\\varphi}_{t}(A_{t}L_{t})^{1-\\alpha-\\varphi}, \\quad 0<\\alpha,\\varphi<1 \\hspace{4em} &(1)\\\\\n",
    "    L_{t+1} &= (1+n)L_{t}, \\quad L_{0} \\text{ given} \\hspace{4em} &(2)\\\\\n",
    "    A_{t+1} &= (1+g)A_{t}, \\quad A_{0}  \\text{ given} \\hspace{4em} &(3)\\\\\n",
    "    K_{t+1} &= s_{K}Y_{t} + (1-\\delta)K_{t}, \\quad K_{0} \\text{ given} \\hspace{4em} &(4)\\\\\n",
    "    H_{t+1} &= s_{H}Y_{t} + (1-\\delta)H_{t}, \\quad H_{0} \\text{ given} \\hspace{4em} &(5)\n",
    "\\end{aligned}"
   ]
  },
  {
   "attachments": {},
   "cell_type": "markdown",
   "metadata": {},
   "source": [
    "1. The Cobb-Douglas production function represents output, $Y_{t}$, as a function of physical capital, $K_{t}$, human capital, $H_{t}$, technology, $A_{t}$, and labor $L_{t}$. <br>\n",
    "2. The labor force, $L_{t+1}$, accumulates over time according to population growth, $1+n$. <br>\n",
    "3. Total factor productivity (TFP, represented as $A_{t}$), accumulates over time according to TFP growth, $1+g$. <br>\n",
    "4. Physical capital, $K_{t+1}$, accumulates over time through investment in physical capital, $s_{K}Y_{t}$, and depreciation of physical capital, $(1-\\delta)K_{t}$. <br>\n",
    "5. Human capital, $H_{t+1}$, accumulates over time through investment in human capital, $s_{H}Y_{t}$, and depreciation of human capital, $(1-\\delta)H_{t}$."
   ]
  },
  {
   "attachments": {},
   "cell_type": "markdown",
   "metadata": {},
   "source": [
    "### Steady State Solutions"
   ]
  },
  {
   "attachments": {},
   "cell_type": "markdown",
   "metadata": {},
   "source": [
    "#### Analytical Solution"
   ]
  },
  {
   "attachments": {},
   "cell_type": "markdown",
   "metadata": {},
   "source": [
    "The Solow Model with Human Capital has two Solow equations, (6) and (7). The model is analyzed in tilde-variables, $\\tilde{x_{t}} = \\frac{X_{t}}{A_t{t}L_{t}}$, which are constant in steady state. The non-tilde per capita variables, $x_{t}$, change in steady state. \n",
    "\n",
    "\\begin{aligned}\n",
    "    \\tilde{k}_{t+1}-\\tilde{k}_{t} &= \\frac{1}{(1+n)(1+g)}(s_{K}\\tilde{k}_{t}^{\\alpha}\\tilde{h}_{t}^{\\varphi}-(n+g+\\delta+ng)\\tilde{k}_{t}) \\hspace{4em} &(6)\\\\\n",
    "    \\tilde{h}_{t+1}-\\tilde{h}_{t} &= \\frac{1}{(1+n)(1+g)}(s_{H}\\tilde{k}_{t}^{\\alpha}\\tilde{h}_{t}^{\\varphi}-(n+g+\\delta+ng)\\tilde{h}_{t}) \\hspace{4em} &(7)\n",
    "\\end{aligned}\n",
    "\n",
    "In steady state $\\tilde{k}_{t+1}=\\tilde{k}_{t}=\\tilde{k}^{\\star}$ and $\\tilde{h}_{t+1}=\\tilde{h}_{t}=\\tilde{h}^{\\star}$. "
   ]
  },
  {
   "attachments": {},
   "cell_type": "markdown",
   "metadata": {},
   "source": [
    "To solve for steady state, I define variables and parameters as `SymPy.symbols` , formulate steady-state Solow equations, set the left hand side of the  equations to zero, and use `SymPy.solve`."
   ]
  },
  {
   "cell_type": "code",
   "execution_count": 2,
   "metadata": {},
   "outputs": [
    {
     "name": "stdout",
     "output_type": "stream",
     "text": [
      "Unable to solve the system of equations algebraically.\n"
     ]
    }
   ],
   "source": [
    "# Create a SymPy symbol for each variable and parameter\n",
    "k, h, s_K, s_H, n, g, delta, alpha, varphi = sm.symbols('k, h, s_K, s_H, n, g, delta, alpha, varphi')\n",
    "\n",
    "# Set the Solow equations in steady state as SumPy equations\n",
    "ss_solow_k = sm.Eq(0, (1 / ((1 + n) * (1 + g))) * (s_K * k**alpha * h**varphi - (n + g + delta + n * g) * k))\n",
    "ss_solow_h = sm.Eq(0, (1 / ((1 + n) * (1 + g))) * (s_H * k**alpha * h**varphi - (n + g + delta + n * g) * h))\n",
    "\n",
    "# Try to solve the systems of equations algebraically for k and h using SumPy\n",
    "try:\n",
    "    ss_k_h = sm.solve([ss_solow_k, ss_solow_h], (k, h))\n",
    "except (NotImplementedError):\n",
    "    print('Unable to solve the system of equations algebraically.')"
   ]
  },
  {
   "attachments": {},
   "cell_type": "markdown",
   "metadata": {},
   "source": [
    "Using 'SymPy' for non-linear equations proves limited, so I adopt an alternative. I use Sørensen and Whitta-Jacobsen's steady-state equations for capital and human capital, (8) and (9). I construct lambdified expressions and calculate steady-state capital and human capital values.\n",
    "\n",
    "\\begin{aligned}\n",
    "    \\tilde{k}_{t}^{\\star} = \\left(\\frac{s_K^{1-\\varphi}s_H^{\\varphi}}{n+g+\\delta+ng}\\right)^{\\frac{1}{1-\\alpha-\\varphi}} \\hspace{4em} (8) \\\\\n",
    "    \\tilde{h}_{t}^{\\star} = \\left(\\frac{s_K^{\\alpha}s_H^{1-\\alpha}}{n+g+\\delta+ng}\\right)^{\\frac{1}{1-\\alpha-\\varphi}} \\hspace{4em} (9)\n",
    "\\end{aligned}"
   ]
  },
  {
   "cell_type": "code",
   "execution_count": 3,
   "metadata": {},
   "outputs": [],
   "source": [
    "# Set the steady state equations\n",
    "ss_k = ((s_K**(1-varphi) * s_H**varphi) / (n + g + delta + n * g))**(1 / (1 - alpha - varphi))\n",
    "ss_h = ((s_K**(alpha) * s_H**(1-alpha)) / (n + g + delta + n * g))**(1 / (1 - alpha - varphi))\n",
    "\n",
    "# Create a function for the steady state of k and h using SymPy lambdify\n",
    "ss_func = sm.lambdify(args = (s_K, s_H, n, g, delta, alpha, varphi), expr = (ss_k, ss_h))"
   ]
  },
  {
   "attachments": {},
   "cell_type": "markdown",
   "metadata": {},
   "source": [
    "I set the name of the parameter values to the name of each parameter plus `_val` to not overwrite the original values."
   ]
  },
  {
   "cell_type": "code",
   "execution_count": 4,
   "metadata": {},
   "outputs": [],
   "source": [
    "# Set parameter values\n",
    "s_K_val = 0.3\n",
    "s_H_val = 0.2\n",
    "n_val = 0.02\n",
    "g_val = 0.02\n",
    "delta_val = 0.1\n",
    "alpha_val = 1/3\n",
    "varphi_val = 1/3"
   ]
  },
  {
   "attachments": {},
   "cell_type": "markdown",
   "metadata": {},
   "source": [
    "Given the parameter values, I find the steady state values of capital and human capital."
   ]
  },
  {
   "cell_type": "code",
   "execution_count": 5,
   "metadata": {},
   "outputs": [
    {
     "name": "stdout",
     "output_type": "stream",
     "text": [
      "Analytical solution:\n",
      "There are 6.504 units of capital, and 4.336 units of human capital in steady state.\n"
     ]
    }
   ],
   "source": [
    "# Call each steady state function for the parameter values\n",
    "ss_k_func, ss_h_func = ss_func(s_K_val, s_H_val, n_val, g_val, delta_val, alpha_val, varphi_val)\n",
    "\n",
    "# Prints the steady state value for capital and human capital\n",
    "print(f'Analytical solution:\\n\\\n",
    "There are {ss_k_func:.3f} units of capital, and {ss_h_func:.3f} units of human capital in steady state.')"
   ]
  },
  {
   "attachments": {},
   "cell_type": "markdown",
   "metadata": {},
   "source": [
    "#### Numerical Solution"
   ]
  },
  {
   "attachments": {},
   "cell_type": "markdown",
   "metadata": {},
   "source": [
    "Now, that I have an analytical solution independent of any algorithm's initial values or tolerance, I can employ an optimizer to determine the steady state values for capital and human capital and compare the results to the analytical solution. "
   ]
  },
  {
   "cell_type": "code",
   "execution_count": 6,
   "metadata": {},
   "outputs": [
    {
     "name": "stdout",
     "output_type": "stream",
     "text": [
      "Numerical Solution:\n",
      "There are 6.504 units of capital, and 4.336 units of human capital in steady state\n"
     ]
    }
   ],
   "source": [
    "# Guess on values\n",
    "initial_guess = [2, 2]\n",
    "\n",
    "# Solve the function for steady state using the n_ss_solow function \n",
    "sol = optimize.root(fun = n_ss_solow,\n",
    "                    x0 = initial_guess, \n",
    "                    args = (s_K_val, s_H_val, n_val, g_val, delta_val, alpha_val, varphi_val), \n",
    "                    method = 'hybr', \n",
    "                    tol = 1e-4)\n",
    "\n",
    "# Save the steady state values\n",
    "num_ss_k, num_ss_h = sol.x\n",
    "\n",
    "# Print the steady-state values of capital and human capital\n",
    "print(f'Numerical Solution:\\n\\\n",
    "There are {num_ss_k:.3f} units of capital, and {num_ss_h:.3f} units of human capital in steady state')"
   ]
  },
  {
   "attachments": {},
   "cell_type": "markdown",
   "metadata": {},
   "source": [
    "Given a \"good\" initial guess, the numerical solution is the same as the analytical. The downside to the simple optimizer is that it is highly sensitive to the initial guess, i.e., `initial_guess = [1, 1]` does not converge given the parameter values. To address this issue, I employ a multi-start optimization technique.\n",
    "The multi-start optimization takes a specified number of random initial guesses within a bounded range for the variables. For each guess, it solves for the steady-state variables, calculates the residual of the function, and stores both the solution and the residual. Finally, it returns the solution with the smallest residual, corresponding to the best convergence or minimum error among all the initial guesses.\n",
    "This approach improves the reliability of the optimization results by exploring multiple starting points and selecting the solution that provides the best convergence."
   ]
  },
  {
   "cell_type": "code",
   "execution_count": 7,
   "metadata": {},
   "outputs": [
    {
     "name": "stdout",
     "output_type": "stream",
     "text": [
      "Muti-Start Solution:\n",
      "There are 6.504 units of capital, and 4.336 units of human capital in steady state\n",
      "The functions residual is 1e-16\n"
     ]
    }
   ],
   "source": [
    "# Call the Multi-Start function to find the steady state values of capital and human capital\n",
    "ms_ss_k, ms_ss_h, smallest_residual = multi_start(num_guesses=100,\n",
    "            bounds = [1e-4, 10],\n",
    "            fun = n_ss_solow, \n",
    "            args = (s_K_val, s_H_val, n_val, g_val, delta_val, alpha_val, varphi_val), \n",
    "            method = 'hybr')\n",
    "\n",
    "# Print the steady-state values for capital and human capital\n",
    "print(f'Muti-Start Solution:\\n\\\n",
    "There are {ms_ss_k:.3f} units of capital, and {ms_ss_h:.3f} units of human capital in steady state\\n\\\n",
    "The functions residual is {smallest_residual:.0e}')"
   ]
  },
  {
   "attachments": {},
   "cell_type": "markdown",
   "metadata": {},
   "source": [
    "The solution shows that the Multi-Start optimizer is a highly stable method, consistently finding the correct answer. One may increase the number of guesses within the given bounds to increase precision. However, it is important to note that increasing the number of guesses can be time-consuming."
   ]
  },
  {
   "attachments": {},
   "cell_type": "markdown",
   "metadata": {},
   "source": [
    "#### Graphical Solution"
   ]
  },
  {
   "attachments": {},
   "cell_type": "markdown",
   "metadata": {},
   "source": [
    "##### Phase Diagram"
   ]
  },
  {
   "attachments": {},
   "cell_type": "markdown",
   "metadata": {},
   "source": [
    "To find the steady state graphically, I set  $\\Delta\\tilde{k_t} = \\tilde{k}_{t+1}-\\tilde{k}_{t} = 0$ and $\\Delta\\tilde{h_t} = \\tilde{h}_{t+1}-\\tilde{h}_{t} = 0$ in the Solow equations, (6) and (7). Next, I solve each equation for $\\tilde{h}_{t}$.\n",
    "\n",
    "\n",
    "\\begin{aligned}\n",
    "    \\tilde{h}_{t} &= \\left(\\frac{n+g+\\delta+ng}{s_K}\\right)^{\\frac{1}{\\varphi}}\\tilde{k}_{t}^{\\frac{1-\\alpha}{\\varphi}}   \\hspace{4em} (10) \\\\\n",
    "    \\tilde{h}_{t} &= \\left(\\frac{s_H}{n+g+\\delta+ng}\\right)^{\\frac{1}{\\varphi}}\\tilde{k}_{t}^{\\frac{\\varphi}{1-\\alpha}}   \\hspace{4em} (11)\n",
    "\\end{aligned}\n",
    "\n",
    "\n",
    "These new equations, (10) and (11), called null clines, show the equilibrium for capital and human capital. \n"
   ]
  },
  {
   "cell_type": "code",
   "execution_count": 10,
   "metadata": {},
   "outputs": [],
   "source": [
    "# Call function with parameter values\n",
    "k_vec, h_vec_k, h_vec_h = null_clines(s_K_val, s_H_val, g_val, n_val, alpha_val, varphi_val, delta_val)\n",
    "\n",
    "k_vec, h_vec_sk, h_vec_sh = null_clines(0.28, s_H_val, g_val, n_val, alpha_val, varphi_val, delta_val)\n"
   ]
  },
  {
   "cell_type": "code",
   "execution_count": 12,
   "metadata": {},
   "outputs": [
    {
     "data": {
      "image/png": "[encoded data removed]",
      "text/plain": [
       "<Figure size 640x480 with 1 Axes>"
      ]
     },
     "metadata": {},
     "output_type": "display_data"
    }
   ],
   "source": [
    "# Create the figure\n",
    "fig = plt.figure()\n",
    "\n",
    "# Create the plot \n",
    "ax = fig.add_subplot(1,1,1)\n",
    "\n",
    "ax.plot(k_vec, h_vec_sk, label= r'$\\Delta \\tilde{k}=0$')\n",
    "ax.plot(k_vec, h_vec_k, label= r'$\\Delta \\tilde{k}=0$')\n",
    "ax.plot(k_vec, h_vec_h, label= r'$\\Delta \\tilde{h}=0$')\n",
    "\n",
    "\n",
    "# Set title, labels and legend\n",
    "ax.set_title('Figure 1: Null-clines')\n",
    "ax.set_xlabel(r'$\\tilde{k}$')\n",
    "ax.set_ylabel(r'$\\tilde{h}$')\n",
    "ax.legend(loc='upper left');\n"
   ]
  },
  {
   "attachments": {},
   "cell_type": "markdown",
   "metadata": {},
   "source": [
    "I am sorry, but this is as far as I have gotten with the model project. \n",
    "I will finalize the project before the exam."
   ]
  }
 ],
 "metadata": {
  "kernelspec": {
   "display_name": "base",
   "language": "python",
   "name": "python3"
  },
  "language_info": {
   "codemirror_mode": {
    "name": "ipython",
    "version": 3
   },
   "file_extension": ".py",
   "mimetype": "text/x-python",
   "name": "python",
   "nbconvert_exporter": "python",
   "pygments_lexer": "ipython3",
   "version": "3.9.16"
  },
  "toc-autonumbering": true,
  "vscode": {
   "interpreter": {
    "hash": "47ef90cdf3004d3f859f1fb202523c65c07ba7c22eefd261b181f4744e2d0403"
   }
  }
 },
 "nbformat": 4,
 "nbformat_minor": 4
}
