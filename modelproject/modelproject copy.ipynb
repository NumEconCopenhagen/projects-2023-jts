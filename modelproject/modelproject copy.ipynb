{
 "cells": [
  {
   "cell_type": "markdown",
   "metadata": {},
   "source": [
    "# The Solow Model with Alternative Specifications for Human Capital"
   ]
  },
  {
   "attachments": {},
   "cell_type": "markdown",
   "metadata": {},
   "source": [
    "This project aims to solve the Solow Model with Alternative Specifications for Human Capital. \n",
    "To accomplish this, I present the Solow Model with Technology and extend the model to account for human capital.\n",
    "With the extended model, I show both analytical and numerical solutions. I also visualize the results and analyze their dependence on the model's parameters.\n",
    "Having examined the model, I explore an alternative specification for human capital, considering a model with distinct groups of workers, one highly educated and the other unskilled.\n"
   ]
  },
  {
   "cell_type": "markdown",
   "metadata": {},
   "source": [
    "Imports and set magics:"
   ]
  },
  {
   "cell_type": "code",
   "execution_count": 1,
   "metadata": {},
   "outputs": [],
   "source": [
    "import numpy as np\n",
    "from scipy import optimize\n",
    "import sympy as sm\n",
    "import random\n",
    "\n",
    "# autoreload modules when code is run\n",
    "%load_ext autoreload\n",
    "%autoreload 2\n",
    "\n",
    "# local modules\n",
    "import modelproject"
   ]
  },
  {
   "attachments": {},
   "cell_type": "markdown",
   "metadata": {},
   "source": [
    "## The Solow Model"
   ]
  },
  {
   "attachments": {},
   "cell_type": "markdown",
   "metadata": {},
   "source": [
    "Introducing the Solow Model..."
   ]
  },
  {
   "attachments": {},
   "cell_type": "markdown",
   "metadata": {},
   "source": [
    "## The Solow Model with Human Capital"
   ]
  },
  {
   "attachments": {},
   "cell_type": "markdown",
   "metadata": {},
   "source": [
    "I try to solve for the steady state of capital and human capital using the Solow-equations and `SymPy`. <br>\n",
    "To solve for the steady state, I define the parameters as symbols, formulate steady-state Solow equations, and use `SymPy.solve`."
   ]
  },
  {
   "cell_type": "code",
   "execution_count": 2,
   "metadata": {},
   "outputs": [
    {
     "name": "stdout",
     "output_type": "stream",
     "text": [
      "Unable to solve the system of equations algebraically.\n"
     ]
    }
   ],
   "source": [
    "# Creates a SymPy symbol for each variable and parameter\n",
    "k, h, s_K, s_H, n, g, delta, alpha, varphi = sm.symbols('k, h, s_K, s_H, n, g, delta, alpha, varphi')\n",
    "\n",
    "# Sets the Solow equations in steady state as SumPy equations\n",
    "ss_solow_k = sm.Eq(0, (1 / ((1 + n) * (1 + g))) * (s_K * k**alpha * h**varphi - (n + g + delta + n * g) * k))\n",
    "ss_solow_h = sm.Eq(0, (1 / ((1 + n) * (1 + g))) * (s_H * k**alpha * h**varphi - (n + g + delta + n * g) * h))\n",
    "\n",
    "# Try to solve the systems of equations algebraically for k and h using SumPy\n",
    "try:\n",
    "    ss_k_h = sm.solve([ss_solow_k, ss_solow_h], k, h)\n",
    "except (NotImplementedError):\n",
    "    print('Unable to solve the system of equations algebraically.')"
   ]
  },
  {
   "attachments": {},
   "cell_type": "markdown",
   "metadata": {},
   "source": [
    "Due to the limitations of `SymPy` in solving the given system of equations algebraically, I use an alternative approach. I can find the solutions by utilizing the steady-state equations for capital and human capital as defined in \"Introducing Advanced Macroeconomics\" by Sørensen and Whitta-Jacobsen. This involves creating lambdified expressions for the equations and using them to compute the steady-state values of capital and human capital."
   ]
  },
  {
   "cell_type": "code",
   "execution_count": 3,
   "metadata": {},
   "outputs": [],
   "source": [
    "# Sets the steady state equations\n",
    "ss_eq_k = ((s_K**(1-varphi) * s_H**varphi) / (n + g + delta + n * g))**(1 / (1 - alpha - varphi))\n",
    "ss_eq_h = ((s_K**(alpha) * s_H**(1-alpha)) / (n + g + delta + n * g))**(1 / (1 - alpha - varphi))\n",
    "\n",
    "# Creates a function for the steady state of k and h using SumPy lambdify\n",
    "ss_func = sm.lambdify(args = (s_K, s_H, n, g, delta, alpha, varphi), expr = (ss_eq_k, ss_eq_h))"
   ]
  },
  {
   "attachments": {},
   "cell_type": "markdown",
   "metadata": {},
   "source": [
    "I set the name of the parameter values to the name of each parameter plus `_val` to not overwrite the original values."
   ]
  },
  {
   "cell_type": "code",
   "execution_count": 4,
   "metadata": {},
   "outputs": [],
   "source": [
    "# Sets parameter values\n",
    "s_K_val = 0.3\n",
    "s_H_val = 0.2\n",
    "n_val = 0.02\n",
    "g_val = 0.02\n",
    "delta_val = 0.1\n",
    "alpha_val = 1/3\n",
    "varphi_val = 1/3"
   ]
  },
  {
   "attachments": {},
   "cell_type": "markdown",
   "metadata": {},
   "source": [
    "Given the parameter values, I find the steady state values of capital and human capital."
   ]
  },
  {
   "cell_type": "code",
   "execution_count": 5,
   "metadata": {},
   "outputs": [
    {
     "name": "stdout",
     "output_type": "stream",
     "text": [
      "Analytical solution:\n",
      "There are 6.504 units of capital, and 4.336 units of human capital in steady state.\n"
     ]
    }
   ],
   "source": [
    "# Calls each steady state function for the parameter values\n",
    "ss_k_func, ss_h_func = ss_func(s_K_val, s_H_val, n_val, g_val, delta_val, alpha_val, varphi_val)\n",
    "\n",
    "# Prints the steady state value for capital and human capital\n",
    "print(f'Analytical solution:\\n\\\n",
    "There are {ss_k_func:.3f} units of capital, and {ss_h_func:.3f} units of human capital in steady state.')"
   ]
  },
  {
   "attachments": {},
   "cell_type": "markdown",
   "metadata": {},
   "source": [
    "Now, that I have an analytical solution independent of any algorithm's initial values or tolerance, I can employ an optimizer to determine the steady state values for capital and human capital and compare the results to the analytical solution. "
   ]
  },
  {
   "cell_type": "code",
   "execution_count": 6,
   "metadata": {},
   "outputs": [
    {
     "name": "stdout",
     "output_type": "stream",
     "text": [
      "Numerical Solution:\n",
      "There are 6.504 units of capital, and 4.336 units of human capital in steady state\n"
     ]
    }
   ],
   "source": [
    "# Call function to find the steady state of capital and human capital\n",
    "from modelproject import n_ss\n",
    "\n",
    "# To see the function delete # below\n",
    "#help(n_ss)\n",
    "\n",
    "# Use SciPy optimize to find roots\n",
    "# Guess on values\n",
    "initial_guess = [2, 2]\n",
    "\n",
    "# Solve the function for steady state\n",
    "sol = optimize.root(fun = n_ss, x0 = initial_guess, args = (s_K_val, s_H_val, n_val, g_val, delta_val, alpha_val, varphi_val), method = 'hybr', tol = 0.0001)\n",
    "\n",
    "# Save the values\n",
    "num_ss_k, num_ss_h = sol.x\n",
    "\n",
    "# Print the steady-state values for capital and human capital\n",
    "print(f'Numerical Solution:\\n\\\n",
    "There are {num_ss_k:.3f} units of capital, and {num_ss_h:.3f} units of human capital in steady state')"
   ]
  },
  {
   "attachments": {},
   "cell_type": "markdown",
   "metadata": {},
   "source": [
    "The solutions to the optimization problem are highly sensitive to the initial guess. To address this issue, I employ a multi-start optimization technique.\n",
    "The multi-start optimization takes a specified number of random initial guesses within a bounded range for the variables. For each guess, it solves for the steady-state variables, calculates the residual of the function, and stores both the solution and the residual. Finally, it returns the solution with the smallest residual, corresponding to the best convergence or minimum error among all the initial guesses.\n",
    "This approach improves the reliability of the optimization results by exploring multiple starting points and selecting the solution that provides the best convergence.\n"
   ]
  },
  {
   "cell_type": "code",
   "execution_count": 7,
   "metadata": {},
   "outputs": [
    {
     "name": "stdout",
     "output_type": "stream",
     "text": [
      "Muti-Start Solution:\n",
      "There are 6.504 units of capital, and 4.336 units of human capital in steady state\n",
      "The functions residual is 1.0671117114813116e-16\n"
     ]
    }
   ],
   "source": [
    "# Call the Multi-Start function to find the steady state of capital and human capital\n",
    "from modelproject import multi_start\n",
    "\n",
    "multi_start(args = (s_K_val, s_H_val, n_val, g_val, delta_val, alpha_val, varphi_val))\n"
   ]
  },
  {
   "attachments": {},
   "cell_type": "markdown",
   "metadata": {},
   "source": [
    "Given an initial guess with values which are close to the analytical solution the optimizer is very precise, but if the initial guess are too far from the analytical solution the optimizer does not converge to ammend this issue I e"
   ]
  },
  {
   "attachments": {},
   "cell_type": "markdown",
   "metadata": {},
   "source": [
    "I need to make a callback in optimize root where I check for which values the numerical solution converges. "
   ]
  },
  {
   "cell_type": "markdown",
   "metadata": {},
   "source": [
    "## Analytical solution"
   ]
  },
  {
   "cell_type": "markdown",
   "metadata": {},
   "source": [
    "If your model allows for an analytical solution, you should provide here.\n",
    "\n",
    "You may use Sympy for this. Then you can characterize the solution as a function of a parameter of the model.\n",
    "\n",
    "To characterize the solution, first derive a steady state equation as a function of a parameter using Sympy.solve and then turn it into a python function by Sympy.lambdify. See the lecture notes for details. "
   ]
  },
  {
   "cell_type": "code",
   "execution_count": 8,
   "metadata": {},
   "outputs": [
    {
     "name": "stdout",
     "output_type": "stream",
     "text": [
      "Numerical Solution:\n",
      "There are 6.504 units of capital, and 4.336 units of human capital in steady state\n"
     ]
    }
   ],
   "source": [
    "import numpy as np\n",
    "from scipy import optimize\n",
    "\n",
    "# Number of random initial guesses\n",
    "num_guesses = 200\n",
    "\n",
    "# Define bounds for capital and human capital variables\n",
    "bounds = [(0.1, 20), (0.1, 20)]\n",
    "\n",
    "# Create a list to store solutions and their residuals\n",
    "solutions = []\n",
    "\n",
    "# Loop through each random initial guess\n",
    "for _ in range(num_guesses):\n",
    "    # Generate a random initial guess within bounds\n",
    "    initial_guess = [np.random.uniform(low=bound[0], high=bound[1]) for bound in bounds]\n",
    "\n",
    "    # Solve the function for steady state\n",
    "    sol = optimize.root(fun=n_ss, x0=initial_guess, args=(s_K_val, s_H_val, n_val, g_val, delta_val, alpha_val, varphi_val), method='hybr')\n",
    "\n",
    "    # Store the solution and its residual in the solutions list\n",
    "    solutions.append((sol.x, sol.fun))\n",
    "\n",
    "# Find the solution with the minimum residual\n",
    "best_solution = min(solutions, key=lambda x: np.linalg.norm(x[1]))\n",
    "\n",
    "# Save the values\n",
    "num_ss_k, num_ss_h = best_solution[0]\n",
    "\n",
    "# Print the steady-state values for capital and human capital\n",
    "print(f'Numerical Solution:\\n\\\n",
    "There are {num_ss_k:.3f} units of capital, and {num_ss_h:.3f} units of human capital in steady state')"
   ]
  },
  {
   "cell_type": "markdown",
   "metadata": {},
   "source": [
    "## Numerical solution"
   ]
  },
  {
   "cell_type": "markdown",
   "metadata": {},
   "source": [
    "You can always solve a model numerically. \n",
    "\n",
    "Define first the set of parameters you need. \n",
    "\n",
    "Then choose one of the optimization algorithms that we have gone through in the lectures based on what you think is most fitting for your model.\n",
    "\n",
    "Are there any problems with convergence? Does the model converge for all starting values? Make a lot of testing to figure these things out. "
   ]
  },
  {
   "cell_type": "markdown",
   "metadata": {},
   "source": [
    "# Further analysis"
   ]
  },
  {
   "cell_type": "markdown",
   "metadata": {},
   "source": [
    "Make detailed vizualizations of how your model changes with parameter values. \n",
    "\n",
    "Try to make an extension of the model. "
   ]
  },
  {
   "cell_type": "markdown",
   "metadata": {},
   "source": [
    "# Conclusion"
   ]
  },
  {
   "cell_type": "markdown",
   "metadata": {},
   "source": [
    "Add concise conclusion. "
   ]
  }
 ],
 "metadata": {
  "kernelspec": {
   "display_name": "base",
   "language": "python",
   "name": "python3"
  },
  "language_info": {
   "codemirror_mode": {
    "name": "ipython",
    "version": 3
   },
   "file_extension": ".py",
   "mimetype": "text/x-python",
   "name": "python",
   "nbconvert_exporter": "python",
   "pygments_lexer": "ipython3",
   "version": "3.9.16"
  },
  "toc-autonumbering": true,
  "vscode": {
   "interpreter": {
    "hash": "47ef90cdf3004d3f859f1fb202523c65c07ba7c22eefd261b181f4744e2d0403"
   }
  }
 },
 "nbformat": 4,
 "nbformat_minor": 4
}
