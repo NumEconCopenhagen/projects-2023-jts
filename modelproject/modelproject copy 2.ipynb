{
 "cells": [
  {
   "attachments": {},
   "cell_type": "markdown",
   "metadata": {},
   "source": [
    "# The Solow Model with Alternative Specifications for Human Capital"
   ]
  },
  {
   "attachments": {},
   "cell_type": "markdown",
   "metadata": {},
   "source": [
    "This project explores the Solow Model with alternative specifications for Human Capital. First, I present the Solow Model with Human Capital, then I derive analytical and numerical steady-state solutions, visualize the outcomes, and analyze parameter dependence. Lastly, I investigate an alternative human capital specification involving two distinct worker groups: highly educated and unskilled."
   ]
  },
  {
   "attachments": {},
   "cell_type": "markdown",
   "metadata": {},
   "source": [
    "Imports and set magics:"
   ]
  },
  {
   "cell_type": "code",
   "execution_count": 233,
   "metadata": {},
   "outputs": [
    {
     "name": "stdout",
     "output_type": "stream",
     "text": [
      "The autoreload extension is already loaded. To reload it, use:\n",
      "  %reload_ext autoreload\n"
     ]
    }
   ],
   "source": [
    "import numpy as np\n",
    "from scipy import optimize\n",
    "import sympy as sm\n",
    "\n",
    "# autoreload modules when code is run\n",
    "%load_ext autoreload\n",
    "%autoreload 2\n",
    "\n",
    "# my modules\n",
    "import random\n",
    "\n",
    "# local modules\n",
    "import modelproject"
   ]
  },
  {
   "attachments": {},
   "cell_type": "markdown",
   "metadata": {},
   "source": [
    "## The Solow Model with Human Capital"
   ]
  },
  {
   "attachments": {},
   "cell_type": "markdown",
   "metadata": {},
   "source": [
    "The Solow Model with Human Capital is given by:\n",
    "\\begin{aligned}\n",
    "    Y_{t} &= K^{\\alpha}_{t}H^{\\varphi}_{t}(A_{t}L_{t})^{1-\\alpha-\\varphi}, \\quad 0<\\alpha,\\varphi<1 \\hspace{4em} &(1)\\\\\n",
    "    L_{t+1} &= (1+n)L_{t}, \\quad L_{0} \\text{ given} \\hspace{4em} &(2)\\\\\n",
    "    A_{t+1} &= (1+g)A_{t}, \\quad A_{0}  \\text{ given} \\hspace{4em} &(3)\\\\\n",
    "    K_{t+1} &= s_{K}Y_{t} + (1-\\delta)K_{t}, \\quad K_{0} \\text{ given} \\hspace{4em} &(4)\\\\\n",
    "    H_{t+1} &= s_{H}Y_{t} + (1-\\delta)H_{t}, \\quad H_{0} \\text{ given} \\hspace{4em} &(5)\n",
    "\\end{aligned}"
   ]
  },
  {
   "attachments": {},
   "cell_type": "markdown",
   "metadata": {},
   "source": [
    "1. The Cobb-Douglas production function represents output, $Y_{t}$, as a function of physical capital, $K_{t}$, human capital, $H_{t}$, technology, $A_{t}$, and labor $L_{t}$. <br>\n",
    "2. The labor force, $L_{t+1}$, accumulates over time according to population growth, $1+n$. <br>\n",
    "3. Total factor productivity (TFP, represented as $A_{t}$), accumulates over time according to TFP growth, $1+g$. <br>\n",
    "4. Physical capital, $K_{t+1}$, accumulates over time through investment in physical capital, $s_{K}Y_{t}$, and depreciation, ($1-\\delta$). <br>\n",
    "5. Human capital, $H_{t+1}$, accumulates over time through investment in human capital, $s_{H}Y_{t}$, and depreciation, $1-\\delta$."
   ]
  },
  {
   "attachments": {},
   "cell_type": "markdown",
   "metadata": {},
   "source": [
    "### Steady State Solutions"
   ]
  },
  {
   "attachments": {},
   "cell_type": "markdown",
   "metadata": {},
   "source": [
    "#### Analytical"
   ]
  },
  {
   "attachments": {},
   "cell_type": "markdown",
   "metadata": {},
   "source": [
    "The Solow Model with Human Capital has two Solow equations. The model is analyzed in tilde-variables, $\\tilde{x_{t}} = \\frac{X_{t}}{A_t{t}L_{t}}$, which are constant in steady state. The non-tilde per capita variables, $x_{t}$, change in steady state. \n",
    "\n",
    "The Solow equations are given by:\n",
    "\n",
    "\\begin{aligned}\n",
    "    \\tilde{k}_{t+1}-\\tilde{k}_{t} &= \\frac{1}{(1+n)(1+g)}(s_{K}\\tilde{k}_{t}^{\\alpha}\\tilde{h}_{t}^{\\varphi}-(n+g+\\delta+ng)\\tilde{k}_{t}) \\hspace{4em} &(6)\\\\\n",
    "    \\tilde{h}_{t+1}-\\tilde{h}_{t} &= \\frac{1}{(1+n)(1+g)}(s_{H}\\tilde{k}_{t}^{\\alpha}\\tilde{h}_{t}^{\\varphi}-(n+g+\\delta+ng)\\tilde{h}_{t}) \\hspace{4em} &(7)\n",
    "\\end{aligned}\n",
    "\n",
    "In steady state $\\tilde{k}_{t+1}=\\tilde{k}_{t}=\\tilde{k}^{\\star}$ and $\\tilde{h}_{t+1}=\\tilde{h}_{t}=\\tilde{h}^{\\star}$. \n",
    "\n",
    "\n",
    "\n",
    "\n"
   ]
  },
  {
   "attachments": {},
   "cell_type": "markdown",
   "metadata": {},
   "source": [
    "To solve for the steady state, I define the parameters as symbols, formulate steady-state Solow equations, and use `SymPy.solve`."
   ]
  },
  {
   "cell_type": "code",
   "execution_count": 234,
   "metadata": {},
   "outputs": [
    {
     "name": "stdout",
     "output_type": "stream",
     "text": [
      "Unable to solve the system of equations algebraically.\n"
     ]
    }
   ],
   "source": [
    "# Creates a SymPy symbol for each variable and parameter\n",
    "k, h, s_K, s_H, n, g, delta, alpha, varphi = sm.symbols('k, h, s_K, s_H, n, g, delta, alpha, varphi')\n",
    "\n",
    "# Sets the Solow equations in steady state as SumPy equations\n",
    "ss_solow_k = sm.Eq(0, (1 / ((1 + n) * (1 + g))) * (s_K * k**alpha * h**varphi - (n + g + delta + n * g) * k))\n",
    "ss_solow_h = sm.Eq(0, (1 / ((1 + n) * (1 + g))) * (s_H * k**alpha * h**varphi - (n + g + delta + n * g) * h))\n",
    "\n",
    "# Try to solve the systems of equations algebraically for k and h using SumPy\n",
    "try:\n",
    "    ss_k_h = sm.solve([ss_solow_k, ss_solow_h], k, h)\n",
    "except (NotImplementedError):\n",
    "    print('Unable to solve the system of equations algebraically.')"
   ]
  },
  {
   "attachments": {},
   "cell_type": "markdown",
   "metadata": {},
   "source": [
    "Due to the limitations of `SymPy` in solving the given system of non-linear equations algebraically, I employ an alternative approach. <br>\n",
    "I find the solutions by utilizing the steady-state equations for capital and human capital, defined in \"Introducing Advanced Macroeconomics\" by Sørensen and Whitta-Jacobsen. <br>\n",
    "I then create lambdified expressions for the equations and compute the steady-state values of capital and human capital.\n",
    "\n",
    "The steady-state equations are given by:\n",
    "\\begin{aligned}\n",
    "    \\tilde{k}_{t}^{\\star} = \\left(\\frac{s_K^{1-\\varphi}s_H^{\\varphi}}{n+g+\\delta+ng}\\right)^{\\frac{1}{1-\\alpha-\\varphi}} \\hspace{4em} (8) \\\\\n",
    "    \\tilde{h}_{t}^{\\star} = \\left(\\frac{s_K^{\\alpha}s_H^{1-\\alpha}}{n+g+\\delta+ng}\\right)^{\\frac{1}{1-\\alpha-\\varphi}} \\hspace{4em} (9)\n",
    "\\end{aligned}"
   ]
  },
  {
   "cell_type": "code",
   "execution_count": 235,
   "metadata": {},
   "outputs": [],
   "source": [
    "# Set the steady state equations\n",
    "ss_eq_k = ((s_K**(1-varphi) * s_H**varphi) / (n + g + delta + n * g))**(1 / (1 - alpha - varphi))\n",
    "ss_eq_h = ((s_K**(alpha) * s_H**(1-alpha)) / (n + g + delta + n * g))**(1 / (1 - alpha - varphi))\n",
    "\n",
    "# Create a function for the steady state of k and h using SymPy lambdify\n",
    "ss_func = sm.lambdify(args = (s_K, s_H, n, g, delta, alpha, varphi), expr = (ss_eq_k, ss_eq_h))"
   ]
  },
  {
   "attachments": {},
   "cell_type": "markdown",
   "metadata": {},
   "source": [
    "I set the name of the parameter values to the name of each parameter plus `_val` to not overwrite the original values."
   ]
  },
  {
   "cell_type": "code",
   "execution_count": 236,
   "metadata": {},
   "outputs": [],
   "source": [
    "# Set parameter values\n",
    "s_K_val = 0.3\n",
    "s_H_val = 0.2\n",
    "n_val = 0.02\n",
    "g_val = 0.02\n",
    "delta_val = 0.1\n",
    "alpha_val = 1/3\n",
    "varphi_val = 1/3"
   ]
  },
  {
   "attachments": {},
   "cell_type": "markdown",
   "metadata": {},
   "source": [
    "Given the parameter values, I find the steady state values of capital and human capital."
   ]
  },
  {
   "cell_type": "code",
   "execution_count": 237,
   "metadata": {},
   "outputs": [
    {
     "name": "stdout",
     "output_type": "stream",
     "text": [
      "Analytical solution:\n",
      "There are 6.504 units of capital, and 4.336 units of human capital in steady state.\n"
     ]
    }
   ],
   "source": [
    "# Call each steady state function for the parameter values\n",
    "ss_k_func, ss_h_func = ss_func(s_K_val, s_H_val, n_val, g_val, delta_val, alpha_val, varphi_val)\n",
    "\n",
    "# Prints the steady state value for capital and human capital\n",
    "print(f'Analytical solution:\\n\\\n",
    "There are {ss_k_func:.3f} units of capital, and {ss_h_func:.3f} units of human capital in steady state.')"
   ]
  },
  {
   "attachments": {},
   "cell_type": "markdown",
   "metadata": {},
   "source": [
    "#### Numerical"
   ]
  },
  {
   "attachments": {},
   "cell_type": "markdown",
   "metadata": {},
   "source": [
    "Now, that I have an analytical solution independent of any algorithm's initial values or tolerance, I can employ an optimizer to determine the steady state values for capital and human capital and compare the results to the analytical solution. "
   ]
  },
  {
   "cell_type": "code",
   "execution_count": 238,
   "metadata": {},
   "outputs": [
    {
     "name": "stdout",
     "output_type": "stream",
     "text": [
      "Numerical Solution:\n",
      "There are 6.504 units of capital, and 4.336 units of human capital in steady state\n"
     ]
    }
   ],
   "source": [
    "# Call function to find the steady state of capital and human capital\n",
    "from modelproject import n_ss\n",
    "\n",
    "# Guess on values\n",
    "initial_guess = [2, 2]\n",
    "\n",
    "# Solve the function for steady state\n",
    "sol = optimize.root(fun = n_ss, x0 = initial_guess, args = (s_K_val, s_H_val, n_val, g_val, delta_val, alpha_val, varphi_val), method = 'hybr', tol = 0.0001)\n",
    "\n",
    "# Save the values\n",
    "num_ss_k, num_ss_h = sol.x\n",
    "\n",
    "# Print the steady-state values for capital and human capital\n",
    "print(f'Numerical Solution:\\n\\\n",
    "There are {num_ss_k:.3f} units of capital, and {num_ss_h:.3f} units of human capital in steady state')"
   ]
  },
  {
   "attachments": {},
   "cell_type": "markdown",
   "metadata": {},
   "source": [
    "Given a \"good\" initial guess, the numerical solutions are the same as the analytical ones. The downside to the simple optimizer is that it is highly sensitive to the initial guess, i.e., `initial_guess = [0.1, 1]` does not converge. To address this issue, I employ a multi-start optimization technique.\n",
    "The multi-start optimization takes a specified number of random initial guesses within a bounded range for the variables. For each guess, it solves for the steady-state variables, calculates the residual of the function, and stores both the solution and the residual. Finally, it returns the solution with the smallest residual, corresponding to the best convergence or minimum error among all the initial guesses.\n",
    "This approach improves the reliability of the optimization results by exploring multiple starting points and selecting the solution that provides the best convergence."
   ]
  },
  {
   "cell_type": "code",
   "execution_count": 239,
   "metadata": {},
   "outputs": [
    {
     "name": "stdout",
     "output_type": "stream",
     "text": [
      "Muti-Start Solution:\n",
      "There are 6.504 units of capital, and 4.336 units of human capital in steady state\n",
      "The functions residual is 1.0671117114813116e-16\n"
     ]
    }
   ],
   "source": [
    "# Call the Multi-Start function to find the steady state of capital and human capital\n",
    "from modelproject import multi_start\n",
    "\n",
    "ms_ss_k, ms_ss_h, smallest_residual = multi_start(num_guesses=100,\n",
    "            bounds=[0.1, 10],\n",
    "            fun=n_ss, \n",
    "            args= (s_K_val, s_H_val, n_val, g_val, delta_val, alpha_val, varphi_val), \n",
    "            method='hybr')\n",
    "\n",
    "# Print the steady-state values for capital and human capital\n",
    "print(f'Muti-Start Solution:\\n\\\n",
    "There are {ms_ss_k:.3f} units of capital, and {ms_ss_h:.3f} units of human capital in steady state\\n\\\n",
    "The functions residual is {smallest_residual}')"
   ]
  },
  {
   "attachments": {},
   "cell_type": "markdown",
   "metadata": {},
   "source": [
    "The solution shows that the Multi-Start optimizer is a highly stable method, consistently finding the correct answer. One can increase the number of guesses within the given bounds to increase precision. However, it is important to note that increasing the number of guesses can be time-consuming."
   ]
  },
  {
   "attachments": {},
   "cell_type": "markdown",
   "metadata": {},
   "source": [
    "### Phase Diagrams"
   ]
  },
  {
   "cell_type": "code",
   "execution_count": 2,
   "metadata": {},
   "outputs": [],
   "source": [
    "# Functions to determine null-clines \n",
    "def null_cline_of_k(k, h, s_K, s_H, n, g, delta, alpha, varphi):\n",
    "    null_cline_k = (1 / ((1 + n) * (1 + g))) * (s_K * k**alpha * h**varphi - (n + g + delta + n * g) * k)\n",
    "    return null_cline_k\n",
    "\n",
    "def null_cline_of_h(k, h, s_K, s_H, n, g, delta, alpha, varphi):\n",
    "    null_cline_h = (1 / ((1 + n) * (1 + g))) * (s_H * k**alpha * h**varphi - (n + g + delta + n * g) * h)\n",
    "    return null_cline_h\n",
    "\n",
    "# Create a Lambda function for each null-cline\n",
    "func_null_cline_k = lambda h: null_cline_of_k(k, h, s_K, s_H, n, g, delta, alpha, varphi)\n",
    "\n",
    "func_null_cline_h = lambda h: null_cline_of_h(k, h, s_K, s_H, n, g, delta, alpha, varphi) \n",
    "\n",
    "\n",
    "# Find roots\n",
    "\n",
    "sol_k = optmize.root_scalar \n",
    "\n",
    "\n",
    "\n"
   ]
  }
 ],
 "metadata": {
  "kernelspec": {
   "display_name": "base",
   "language": "python",
   "name": "python3"
  },
  "language_info": {
   "codemirror_mode": {
    "name": "ipython",
    "version": 3
   },
   "file_extension": ".py",
   "mimetype": "text/x-python",
   "name": "python",
   "nbconvert_exporter": "python",
   "pygments_lexer": "ipython3",
   "version": "3.9.16"
  },
  "toc-autonumbering": true,
  "vscode": {
   "interpreter": {
    "hash": "47ef90cdf3004d3f859f1fb202523c65c07ba7c22eefd261b181f4744e2d0403"
   }
  }
 },
 "nbformat": 4,
 "nbformat_minor": 4
}
