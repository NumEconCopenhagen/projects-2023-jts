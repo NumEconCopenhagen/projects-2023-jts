{
 "cells": [
  {
   "cell_type": "markdown",
   "metadata": {},
   "source": [
    "# The Solow Model with Alternative Specifications for Human Capital"
   ]
  },
  {
   "attachments": {},
   "cell_type": "markdown",
   "metadata": {},
   "source": [
    "This project aims to solve the Solow Model with Alternative Specifications for Human Capital. \n",
    "To accomplish this, I present the Solow Model with Technology and extend the model to account for human capital.\n",
    "With the extended model, I show both analytical and numerical solutions. I also visualize the results and analyze their dependence on the model's parameters.\n",
    "Having examined the model, I explore an alternative specification for human capital, considering a model with distinct groups of workers, one highly educated and the other unskilled.\n"
   ]
  },
  {
   "cell_type": "markdown",
   "metadata": {},
   "source": [
    "Imports and set magics:"
   ]
  },
  {
   "cell_type": "code",
   "execution_count": 40,
   "metadata": {},
   "outputs": [
    {
     "name": "stdout",
     "output_type": "stream",
     "text": [
      "The autoreload extension is already loaded. To reload it, use:\n",
      "  %reload_ext autoreload\n"
     ]
    }
   ],
   "source": [
    "import numpy as np\n",
    "from scipy import optimize\n",
    "import sympy as sm\n",
    "\n",
    "# autoreload modules when code is run\n",
    "%load_ext autoreload\n",
    "%autoreload 2\n",
    "\n",
    "# local modules\n",
    "import modelproject"
   ]
  },
  {
   "attachments": {},
   "cell_type": "markdown",
   "metadata": {},
   "source": [
    "## The Solow Model"
   ]
  },
  {
   "attachments": {},
   "cell_type": "markdown",
   "metadata": {},
   "source": [
    "Introducing the Solow Model..."
   ]
  },
  {
   "attachments": {},
   "cell_type": "markdown",
   "metadata": {},
   "source": [
    "## The Solow Model with Human Capital"
   ]
  },
  {
   "attachments": {},
   "cell_type": "markdown",
   "metadata": {},
   "source": [
    "Human capital is a measure of a worker's productivity due to factors such as education, intelligence, and perseverance. <br>\n",
    "\n",
    "The Solow Model with Human Capital:\n",
    "- Equations\n",
    "\n",
    "A short explanation of each equation.\n",
    "\n",
    "Analyzing the model per capita. \n",
    "\n",
    "Transition Equations. \n",
    "\n",
    "Solow Equations. \n",
    "\n",
    "Steady State."
   ]
  },
  {
   "attachments": {},
   "cell_type": "markdown",
   "metadata": {},
   "source": [
    "Transition: <br>\n",
    "$\\tilde{k}_{t+1}= \\frac{1}{(1+n)(1+g)}(s_{K}\\tilde{k}_{t}^{\\alpha}\\tilde{h}_{t}^{\\varphi}+(1-\\delta)\\tilde{k}_{t})$\n",
    "\n",
    "$\\tilde{h}_{t+1} = \\frac{1}{(1+n)(1+g)}(s_{H}\\tilde{k}_{t}^{\\alpha}\\tilde{h}_{t}^{\\varphi}+(1-\\delta)\\tilde{h}_{t})$"
   ]
  },
  {
   "attachments": {},
   "cell_type": "markdown",
   "metadata": {},
   "source": [
    "$\\tilde{k}_{t+1}-\\tilde{k}_{t} = \\frac{1}{(1+n)(1+g)}(s_{K}\\tilde{k}_{t}^{\\alpha}h_{t}^{\\varphi}-(n+g+\\delta+ng)\\tilde{k}_{t})$\n",
    "\n",
    "$\\tilde{h}_{t+1}-\\tilde{h}_{t} = \\frac{1}{(1+n)(1+g)}(s_{H}\\tilde{k}_{t}^{\\alpha}\\tilde{h}_{t}^{\\varphi}-(n+g+\\delta+ng)\\tilde{h}_{t})$\n",
    "\n"
   ]
  },
  {
   "attachments": {},
   "cell_type": "markdown",
   "metadata": {},
   "source": [
    "$\\tilde{k}^{\\ast} = \\left(\\frac{s_K^{1-\\varphi}s_H^{\\varphi}}{n + g + \\delta + ng}\\right)^{\\frac{1}{1-\\alpha-\\varphi}}$\n",
    "\n",
    "$\\tilde{h}^{\\ast} = \\left(\\frac{s_K^{\\alpha}s_H^{1-\\alpha}}{n + g + \\delta + ng}\\right)^{\\frac{1}{1-\\alpha-\\varphi}}$"
   ]
  },
  {
   "attachments": {},
   "cell_type": "markdown",
   "metadata": {},
   "source": [
    "I try to solve for the steady state of capital and human capital using the transition equations and `SymPy`. <br>\n",
    "To solve for the steady state, I define the parameters as symbols, formulate steady-state transition equations, and try to solve the system of equations algebraically. "
   ]
  },
  {
   "cell_type": "code",
   "execution_count": 41,
   "metadata": {},
   "outputs": [
    {
     "name": "stdout",
     "output_type": "stream",
     "text": [
      "Unable to solve the system of equations algebraically: could not solve -k*(1 - delta) + k*(g + 1)*(n + 1) - k**alpha*s_K*(((delta + g*n + g + n)/(k**alpha*s_H))**(1/(varphi - 1)))**varphi\n"
     ]
    }
   ],
   "source": [
    "# define parameters as symbols\n",
    "k, h, s_K, s_H, n, g, delta, alpha, varphi = sm.symbols('k, h, s_K, s_H, n, g, delta, alpha, varphi')\n",
    "\n",
    "# formulate steady-state transition equations\n",
    "ss_trans_k = sm.Eq(k,(1/((1 + n) * (1 + g))) * (s_K * k**alpha * h**varphi + (1 - delta)*k))\n",
    "ss_trans_h = sm.Eq(h,(1/((1 + n) * (1 + g))) * (s_H * k**alpha * h**varphi + (1 - delta)*h))\n",
    "\n",
    "# solve the system of equations algebraically\n",
    "try:\n",
    "    ss_sol = sm.solve([ss_trans_k, ss_trans_h], k, h)\n",
    "    print(ss_sol[0])\n",
    "except (NotImplementedError) as e:\n",
    "    print(f'Unable to solve the system of equations algebraically: {e}')"
   ]
  },
  {
   "attachments": {},
   "cell_type": "markdown",
   "metadata": {},
   "source": [
    "Due to the limitations of `SymPy` in solving the given system of equations algebraically, I use an alternative approach. I can find the solutions by utilizing the steady-state equations for capital and human capital as defined in \"Introducing Advanced Macroeconomics\" by Sørensen and Whitta-Jacobsen. This involves creating lambdified expressions for the equations and using them to compute the steady-state values of capital and human capital."
   ]
  },
  {
   "cell_type": "code",
   "execution_count": 42,
   "metadata": {},
   "outputs": [
    {
     "name": "stdout",
     "output_type": "stream",
     "text": [
      "Analytical solution:\n",
      "There are 6.504 units of capital, and 4.336 units of human capital in steady state\n"
     ]
    }
   ],
   "source": [
    "# define steady-state equations for capital and human capital\n",
    "ss_eq_k = ((s_K**(1-varphi) * s_H**varphi)/(n + g + delta + n * g))**(1/(1 - alpha - varphi))\n",
    "ss_eq_h = ((s_K**(alpha) * s_H**(1-alpha))/(n + g + delta + n * g))**(1/(1 - alpha - varphi))\n",
    "\n",
    "# create a single function that returns both steady-state values\n",
    "ss_funcs = sm.lambdify((s_K, s_H, n, g, delta, alpha, varphi), (ss_eq_k, ss_eq_h))\n",
    "\n",
    "# assign parameter values\n",
    "s_K_val = 0.3\n",
    "s_H_val = 0.2\n",
    "n_val = 0.02\n",
    "g_val = 0.02\n",
    "delta_val = 0.1\n",
    "alpha_val = 1/3\n",
    "varphi_val = 1/3\n",
    "\n",
    "# call the function with the parameter values\n",
    "ss_eq_k_func, ss_eq_h_func = ss_funcs(s_K_val, s_H_val, n_val, g_val, delta_val, alpha_val, varphi_val)\n",
    "\n",
    "# print the steady-state values for capital and human capital\n",
    "print(f'Analytical solution:\\n\\\n",
    "There are {ss_eq_k_func:.3f} units of capital, and {ss_eq_h_func:.3f} units of human capital in steady state')"
   ]
  },
  {
   "attachments": {},
   "cell_type": "markdown",
   "metadata": {},
   "source": [
    "Now, that I have an analytical solution independent of any algorithm's initial values or tolerance, I can employ an optimizer to determine the steady-state values for capital and human capital and compare the results to the analytical solution. "
   ]
  },
  {
   "cell_type": "code",
   "execution_count": 47,
   "metadata": {},
   "outputs": [
    {
     "name": "stdout",
     "output_type": "stream",
     "text": [
      "Numerical Solution:\n",
      "There are 6.504 units of capital, and 4.336 units of human capital in steady state\n"
     ]
    }
   ],
   "source": [
    "# define a function to optimize\n",
    "def num_ss(variables, s_K_val, s_H_val, n_val, g_val, delta_val, alpha_val, varphi_val):\n",
    "    k, h = variables\n",
    "    num_ss_trans_k = k - (1 / ((1 + n_val) * (1 + g_val))) * (s_K_val * k**alpha_val * h**varphi_val + (1 - delta_val) * k)\n",
    "    num_ss_trans_h = h - (1 / ((1 + n_val) * (1 + g_val))) * (s_H_val * k**alpha_val * h**varphi_val + (1 - delta_val) * h)\n",
    "    return [num_ss_trans_k, num_ss_trans_h]\n",
    "\n",
    "# initial guess\n",
    "initial_guess = [3, 3]\n",
    "\n",
    "# solve the function for steady state\n",
    "result = optimize.root(fun = num_ss, x0 = initial_guess, args = (s_K_val, s_H_val, n_val, g_val, delta_val, alpha_val, varphi_val), method = 'hybr')\n",
    "\n",
    "# save the steady state values\n",
    "num_ss_k, num_ss_h = result.x\n",
    "\n",
    "# print the steady-state values for capital and human capital\n",
    "print(f'Numerical Solution:\\n\\\n",
    "There are {num_ss_k:.3f} units of capital, and {num_ss_h:.3f} units of human capital in steady state')\n",
    "\n"
   ]
  },
  {
   "attachments": {},
   "cell_type": "markdown",
   "metadata": {},
   "source": [
    "I need to make a callback in optimize root where I check for which values the numerical solution converges. "
   ]
  },
  {
   "cell_type": "markdown",
   "metadata": {},
   "source": [
    "## Analytical solution"
   ]
  },
  {
   "cell_type": "markdown",
   "metadata": {},
   "source": [
    "If your model allows for an analytical solution, you should provide here.\n",
    "\n",
    "You may use Sympy for this. Then you can characterize the solution as a function of a parameter of the model.\n",
    "\n",
    "To characterize the solution, first derive a steady state equation as a function of a parameter using Sympy.solve and then turn it into a python function by Sympy.lambdify. See the lecture notes for details. "
   ]
  },
  {
   "cell_type": "markdown",
   "metadata": {},
   "source": [
    "## Numerical solution"
   ]
  },
  {
   "cell_type": "markdown",
   "metadata": {},
   "source": [
    "You can always solve a model numerically. \n",
    "\n",
    "Define first the set of parameters you need. \n",
    "\n",
    "Then choose one of the optimization algorithms that we have gone through in the lectures based on what you think is most fitting for your model.\n",
    "\n",
    "Are there any problems with convergence? Does the model converge for all starting values? Make a lot of testing to figure these things out. "
   ]
  },
  {
   "cell_type": "markdown",
   "metadata": {},
   "source": [
    "# Further analysis"
   ]
  },
  {
   "cell_type": "markdown",
   "metadata": {},
   "source": [
    "Make detailed vizualizations of how your model changes with parameter values. \n",
    "\n",
    "Try to make an extension of the model. "
   ]
  },
  {
   "cell_type": "markdown",
   "metadata": {},
   "source": [
    "# Conclusion"
   ]
  },
  {
   "cell_type": "markdown",
   "metadata": {},
   "source": [
    "Add concise conclusion. "
   ]
  }
 ],
 "metadata": {
  "kernelspec": {
   "display_name": "base",
   "language": "python",
   "name": "python3"
  },
  "language_info": {
   "codemirror_mode": {
    "name": "ipython",
    "version": 3
   },
   "file_extension": ".py",
   "mimetype": "text/x-python",
   "name": "python",
   "nbconvert_exporter": "python",
   "pygments_lexer": "ipython3",
   "version": "3.9.16"
  },
  "toc-autonumbering": true,
  "vscode": {
   "interpreter": {
    "hash": "47ef90cdf3004d3f859f1fb202523c65c07ba7c22eefd261b181f4744e2d0403"
   }
  }
 },
 "nbformat": 4,
 "nbformat_minor": 4
}
