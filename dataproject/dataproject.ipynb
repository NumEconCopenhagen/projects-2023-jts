{
 "cells": [
  {
   "attachments": {},
   "cell_type": "markdown",
   "metadata": {},
   "source": [
    "# Women on Board"
   ]
  },
  {
   "attachments": {},
   "cell_type": "markdown",
   "metadata": {},
   "source": [
    "### Exploring the Influence of Gender Diversity: Does C25 Stock Performance Correlate with Female Representation on Boards of Directors?"
   ]
  },
  {
   "attachments": {},
   "cell_type": "markdown",
   "metadata": {},
   "source": [
    "#### I examine the potential connection between the presence of women on boards of directors and the performance metrics of stocks in the C25 index, investigating whether gender diversity plays a role in financial outcomes such as returns and volatility."
   ]
  },
  {
   "attachments": {},
   "cell_type": "markdown",
   "metadata": {},
   "source": [
    "To conduct the analysis, I utilize data from finans.dk on the percentage of women on boards in C25 stocks, retrieved on 30 of March, 2023. Additionally, I download data for the stocks and the C25 index using Yahoo Finance.\n",
    "\n",
    "I explore the datasets by plotting the returns of each stock compared to the C25, visualizing the proportion of women on boards for each company, and comparing the expected return of each stock on the C25 index to the amount of women on boards. Notably, the plot does not seem to yield any correlation between expected returns and the number of women on boards.\n",
    "\n",
    "Finally, I create a new portfolio weighted by the number of women on boards, assuming that the composition has remained consistent for the past five years. Comparing the new portfolio to the C25 index, I find that weighting the index by women on boards does not underperform compared to the market.\n",
    "\n",
    "While this is not conclusive evidence that women on boards improve performance, as numerous portfolios could be created from the C25 index, it does not suggest that having women on boards is a detrimental strategy."
   ]
  },
  {
   "attachments": {},
   "cell_type": "markdown",
   "metadata": {},
   "source": [
    "Imports and set magics:"
   ]
  },
  {
   "cell_type": "code",
   "execution_count": 17,
   "metadata": {},
   "outputs": [
    {
     "name": "stdout",
     "output_type": "stream",
     "text": [
      "The autoreload extension is already loaded. To reload it, use:\n",
      "  %reload_ext autoreload\n",
      "Requirement already satisfied: yfinance in c:\\users\\jonas\\anaconda3\\lib\\site-packages (0.2.17)\n",
      "Requirement already satisfied: beautifulsoup4>=4.11.1 in c:\\users\\jonas\\anaconda3\\lib\\site-packages (from yfinance) (4.11.1)\n",
      "Requirement already satisfied: lxml>=4.9.1 in c:\\users\\jonas\\anaconda3\\lib\\site-packages (from yfinance) (4.9.1)\n",
      "Requirement already satisfied: pytz>=2022.5 in c:\\users\\jonas\\anaconda3\\lib\\site-packages (from yfinance) (2022.7)\n",
      "Requirement already satisfied: numpy>=1.16.5 in c:\\users\\jonas\\anaconda3\\lib\\site-packages (from yfinance) (1.23.5)\n",
      "Requirement already satisfied: appdirs>=1.4.4 in c:\\users\\jonas\\anaconda3\\lib\\site-packages (from yfinance) (1.4.4)\n",
      "Requirement already satisfied: frozendict>=2.3.4 in c:\\users\\jonas\\anaconda3\\lib\\site-packages (from yfinance) (2.3.7)\n",
      "Requirement already satisfied: pandas>=1.3.0 in c:\\users\\jonas\\anaconda3\\lib\\site-packages (from yfinance) (1.5.2)\n",
      "Requirement already satisfied: html5lib>=1.1 in c:\\users\\jonas\\anaconda3\\lib\\site-packages (from yfinance) (1.1)\n",
      "Requirement already satisfied: cryptography>=3.3.2 in c:\\users\\jonas\\anaconda3\\lib\\site-packages (from yfinance) (38.0.4)\n",
      "Requirement already satisfied: multitasking>=0.0.7 in c:\\users\\jonas\\anaconda3\\lib\\site-packages (from yfinance) (0.0.11)\n",
      "Requirement already satisfied: requests>=2.26 in c:\\users\\jonas\\anaconda3\\lib\\site-packages (from yfinance) (2.28.1)\n",
      "Requirement already satisfied: soupsieve>1.2 in c:\\users\\jonas\\anaconda3\\lib\\site-packages (from beautifulsoup4>=4.11.1->yfinance) (2.3.2.post1)\n",
      "Requirement already satisfied: cffi>=1.12 in c:\\users\\jonas\\anaconda3\\lib\\site-packages (from cryptography>=3.3.2->yfinance) (1.15.1)\n",
      "Requirement already satisfied: six>=1.9 in c:\\users\\jonas\\anaconda3\\lib\\site-packages (from html5lib>=1.1->yfinance) (1.16.0)\n",
      "Requirement already satisfied: webencodings in c:\\users\\jonas\\anaconda3\\lib\\site-packages (from html5lib>=1.1->yfinance) (0.5.1)\n",
      "Requirement already satisfied: python-dateutil>=2.8.1 in c:\\users\\jonas\\anaconda3\\lib\\site-packages (from pandas>=1.3.0->yfinance) (2.8.2)\n",
      "Requirement already satisfied: urllib3<1.27,>=1.21.1 in c:\\users\\jonas\\anaconda3\\lib\\site-packages (from requests>=2.26->yfinance) (1.26.14)\n",
      "Requirement already satisfied: charset-normalizer<3,>=2 in c:\\users\\jonas\\anaconda3\\lib\\site-packages (from requests>=2.26->yfinance) (2.0.4)\n",
      "Requirement already satisfied: certifi>=2017.4.17 in c:\\users\\jonas\\anaconda3\\lib\\site-packages (from requests>=2.26->yfinance) (2022.12.7)\n",
      "Requirement already satisfied: idna<4,>=2.5 in c:\\users\\jonas\\anaconda3\\lib\\site-packages (from requests>=2.26->yfinance) (3.4)\n",
      "Requirement already satisfied: pycparser in c:\\users\\jonas\\anaconda3\\lib\\site-packages (from cffi>=1.12->cryptography>=3.3.2->yfinance) (2.21)\n",
      "Note: you may need to restart the kernel to use updated packages.\n",
      "Requirement already satisfied: adjustText in c:\\users\\jonas\\anaconda3\\lib\\site-packages (0.8)\n",
      "Requirement already satisfied: matplotlib in c:\\users\\jonas\\anaconda3\\lib\\site-packages (from adjustText) (3.6.2)\n",
      "Requirement already satisfied: numpy in c:\\users\\jonas\\anaconda3\\lib\\site-packages (from adjustText) (1.23.5)\n",
      "Requirement already satisfied: kiwisolver>=1.0.1 in c:\\users\\jonas\\anaconda3\\lib\\site-packages (from matplotlib->adjustText) (1.4.4)\n",
      "Requirement already satisfied: python-dateutil>=2.7 in c:\\users\\jonas\\anaconda3\\lib\\site-packages (from matplotlib->adjustText) (2.8.2)\n",
      "Requirement already satisfied: fonttools>=4.22.0 in c:\\users\\jonas\\anaconda3\\lib\\site-packages (from matplotlib->adjustText) (4.25.0)\n",
      "Requirement already satisfied: cycler>=0.10 in c:\\users\\jonas\\anaconda3\\lib\\site-packages (from matplotlib->adjustText) (0.11.0)\n",
      "Requirement already satisfied: pillow>=6.2.0 in c:\\users\\jonas\\anaconda3\\lib\\site-packages (from matplotlib->adjustText) (9.3.0)\n",
      "Requirement already satisfied: contourpy>=1.0.1 in c:\\users\\jonas\\anaconda3\\lib\\site-packages (from matplotlib->adjustText) (1.0.5)\n",
      "Requirement already satisfied: packaging>=20.0 in c:\\users\\jonas\\anaconda3\\lib\\site-packages (from matplotlib->adjustText) (22.0)\n",
      "Requirement already satisfied: pyparsing>=2.2.1 in c:\\users\\jonas\\anaconda3\\lib\\site-packages (from matplotlib->adjustText) (3.0.9)\n",
      "Requirement already satisfied: six>=1.5 in c:\\users\\jonas\\anaconda3\\lib\\site-packages (from python-dateutil>=2.7->matplotlib->adjustText) (1.16.0)\n",
      "Note: you may need to restart the kernel to use updated packages.\n"
     ]
    }
   ],
   "source": [
    "import pandas as pd\n",
    "import numpy as np\n",
    "import matplotlib.pyplot as plt\n",
    "import ipywidgets as widgets\n",
    "import seaborn as sns\n",
    "from matplotlib_venn import venn2\n",
    "from datetime import datetime\n",
    "\n",
    "# autoreload modules when code is run\n",
    "%load_ext autoreload\n",
    "%autoreload 2\n",
    "\n",
    "# user written modules\n",
    "import dataproject as dp\n",
    "\n",
    "# install yfinance\n",
    "%pip install yfinance\n",
    "\n",
    "import yfinance as yf\n",
    "\n",
    "# install adjustText\n",
    "%pip install adjustText\n",
    "\n",
    "from adjustText import adjust_text\n",
    "\n",
    "# Predefined options for all plots\n",
    "plt.rcParams.update({\"axes.grid\":True,\"grid.color\":\"black\",\"grid.alpha\":\"0.25\",\"grid.linestyle\":\"-\"})\n",
    "plt.rcParams.update({'font.size': 12})"
   ]
  },
  {
   "attachments": {},
   "cell_type": "markdown",
   "metadata": {},
   "source": [
    "# Reading and Cleaning Data"
   ]
  },
  {
   "attachments": {},
   "cell_type": "markdown",
   "metadata": {},
   "source": [
    "I import a CSV file that includes the companies in the C25 index, a yfinance ticker, and the percentage of female board members for each company."
   ]
  },
  {
   "cell_type": "code",
   "execution_count": 18,
   "metadata": {},
   "outputs": [
    {
     "data": {
      "text/html": [
       "<div>\n",
       "<style scoped>\n",
       "    .dataframe tbody tr th:only-of-type {\n",
       "        vertical-align: middle;\n",
       "    }\n",
       "\n",
       "    .dataframe tbody tr th {\n",
       "        vertical-align: top;\n",
       "    }\n",
       "\n",
       "    .dataframe thead th {\n",
       "        text-align: right;\n",
       "    }\n",
       "</style>\n",
       "<table border=\"1\" class=\"dataframe\">\n",
       "  <thead>\n",
       "    <tr style=\"text-align: right;\">\n",
       "      <th></th>\n",
       "      <th>company</th>\n",
       "      <th>femaleboard</th>\n",
       "      <th>yfinanceticker</th>\n",
       "    </tr>\n",
       "  </thead>\n",
       "  <tbody>\n",
       "    <tr>\n",
       "      <th>0</th>\n",
       "      <td>GN STORE NORD</td>\n",
       "      <td>66.67</td>\n",
       "      <td>GN.CO</td>\n",
       "    </tr>\n",
       "    <tr>\n",
       "      <th>1</th>\n",
       "      <td>PANDORA</td>\n",
       "      <td>57.14</td>\n",
       "      <td>PNDORA.CO</td>\n",
       "    </tr>\n",
       "    <tr>\n",
       "      <th>2</th>\n",
       "      <td>CHR. HANSEN HOLDING</td>\n",
       "      <td>50.00</td>\n",
       "      <td>CHR.CO</td>\n",
       "    </tr>\n",
       "    <tr>\n",
       "      <th>3</th>\n",
       "      <td>COLOPLAST</td>\n",
       "      <td>50.00</td>\n",
       "      <td>COLO-B.CO</td>\n",
       "    </tr>\n",
       "    <tr>\n",
       "      <th>4</th>\n",
       "      <td>GENMAB</td>\n",
       "      <td>50.00</td>\n",
       "      <td>GMAB.CO</td>\n",
       "    </tr>\n",
       "  </tbody>\n",
       "</table>\n",
       "</div>"
      ],
      "text/plain": [
       "               company  femaleboard yfinanceticker\n",
       "0        GN STORE NORD        66.67          GN.CO\n",
       "1              PANDORA        57.14      PNDORA.CO\n",
       "2  CHR. HANSEN HOLDING        50.00         CHR.CO\n",
       "3            COLOPLAST        50.00      COLO-B.CO\n",
       "4               GENMAB        50.00        GMAB.CO"
      ]
     },
     "execution_count": 18,
     "metadata": {},
     "output_type": "execute_result"
    }
   ],
   "source": [
    "# read file, sort values descending and reset index\n",
    "C25F = (pd.read_csv('C25F.csv')\n",
    "        .sort_values(by =['femaleboard'], ascending=False)\n",
    "        .reset_index(drop=True))\n",
    "\n",
    "# display data\n",
    "C25F.head()"
   ]
  },
  {
   "attachments": {},
   "cell_type": "markdown",
   "metadata": {},
   "source": [
    "I generate a list of yfinance tickers to pass as input to yfinance."
   ]
  },
  {
   "cell_type": "code",
   "execution_count": 19,
   "metadata": {},
   "outputs": [],
   "source": [
    "# generate a list of yfinance tickers\n",
    "C25_tickers = list(C25F['yfinanceticker'])"
   ]
  },
  {
   "attachments": {},
   "cell_type": "markdown",
   "metadata": {},
   "source": [
    "I download historical prices adjusted for dividends, stock splits and offerings from yfinance."
   ]
  },
  {
   "cell_type": "code",
   "execution_count": 20,
   "metadata": {},
   "outputs": [
    {
     "name": "stdout",
     "output_type": "stream",
     "text": [
      "[*********************100%***********************]  26 of 26 completed\n"
     ]
    },
    {
     "data": {
      "text/html": [
       "<div>\n",
       "<style scoped>\n",
       "    .dataframe tbody tr th:only-of-type {\n",
       "        vertical-align: middle;\n",
       "    }\n",
       "\n",
       "    .dataframe tbody tr th {\n",
       "        vertical-align: top;\n",
       "    }\n",
       "\n",
       "    .dataframe thead th {\n",
       "        text-align: right;\n",
       "    }\n",
       "</style>\n",
       "<table border=\"1\" class=\"dataframe\">\n",
       "  <thead>\n",
       "    <tr style=\"text-align: right;\">\n",
       "      <th></th>\n",
       "      <th>AMBU-B.CO</th>\n",
       "      <th>BAVA.CO</th>\n",
       "      <th>CARL-B.CO</th>\n",
       "      <th>CHR.CO</th>\n",
       "      <th>COLO-B.CO</th>\n",
       "      <th>DANSKE.CO</th>\n",
       "      <th>DEMANT.CO</th>\n",
       "      <th>DSV.CO</th>\n",
       "      <th>FLS.CO</th>\n",
       "      <th>GMAB.CO</th>\n",
       "      <th>...</th>\n",
       "      <th>NETC.CO</th>\n",
       "      <th>NOVO-B.CO</th>\n",
       "      <th>NZYM-B.CO</th>\n",
       "      <th>ORSTED.CO</th>\n",
       "      <th>PNDORA.CO</th>\n",
       "      <th>RBREW.CO</th>\n",
       "      <th>ROCK-B.CO</th>\n",
       "      <th>TRYG.CO</th>\n",
       "      <th>VWS.CO</th>\n",
       "      <th>^OMXC25</th>\n",
       "    </tr>\n",
       "    <tr>\n",
       "      <th>Date</th>\n",
       "      <th></th>\n",
       "      <th></th>\n",
       "      <th></th>\n",
       "      <th></th>\n",
       "      <th></th>\n",
       "      <th></th>\n",
       "      <th></th>\n",
       "      <th></th>\n",
       "      <th></th>\n",
       "      <th></th>\n",
       "      <th></th>\n",
       "      <th></th>\n",
       "      <th></th>\n",
       "      <th></th>\n",
       "      <th></th>\n",
       "      <th></th>\n",
       "      <th></th>\n",
       "      <th></th>\n",
       "      <th></th>\n",
       "      <th></th>\n",
       "      <th></th>\n",
       "    </tr>\n",
       "  </thead>\n",
       "  <tbody>\n",
       "    <tr>\n",
       "      <th>03-20</th>\n",
       "      <td>164.686874</td>\n",
       "      <td>109.050003</td>\n",
       "      <td>690.846863</td>\n",
       "      <td>488.494751</td>\n",
       "      <td>928.482727</td>\n",
       "      <td>65.811813</td>\n",
       "      <td>150.600006</td>\n",
       "      <td>605.491150</td>\n",
       "      <td>139.733887</td>\n",
       "      <td>1377.0</td>\n",
       "      <td>...</td>\n",
       "      <td>315.225800</td>\n",
       "      <td>383.850800</td>\n",
       "      <td>296.004211</td>\n",
       "      <td>625.472290</td>\n",
       "      <td>197.731461</td>\n",
       "      <td>439.058594</td>\n",
       "      <td>1151.906494</td>\n",
       "      <td>152.197433</td>\n",
       "      <td>108.125122</td>\n",
       "      <td>1126.500000</td>\n",
       "    </tr>\n",
       "    <tr>\n",
       "      <th>04-20</th>\n",
       "      <td>212.936554</td>\n",
       "      <td>160.600006</td>\n",
       "      <td>793.157776</td>\n",
       "      <td>563.381897</td>\n",
       "      <td>1013.557678</td>\n",
       "      <td>78.095749</td>\n",
       "      <td>162.750000</td>\n",
       "      <td>691.190857</td>\n",
       "      <td>172.841522</td>\n",
       "      <td>1637.5</td>\n",
       "      <td>...</td>\n",
       "      <td>350.960724</td>\n",
       "      <td>413.202545</td>\n",
       "      <td>319.259644</td>\n",
       "      <td>655.833740</td>\n",
       "      <td>224.828598</td>\n",
       "      <td>471.923065</td>\n",
       "      <td>1339.208496</td>\n",
       "      <td>164.023926</td>\n",
       "      <td>114.699501</td>\n",
       "      <td>1234.959961</td>\n",
       "    </tr>\n",
       "    <tr>\n",
       "      <th>05-20</th>\n",
       "      <td>223.204544</td>\n",
       "      <td>200.199997</td>\n",
       "      <td>800.548035</td>\n",
       "      <td>623.291626</td>\n",
       "      <td>1058.730103</td>\n",
       "      <td>80.202789</td>\n",
       "      <td>189.300003</td>\n",
       "      <td>696.503235</td>\n",
       "      <td>175.877243</td>\n",
       "      <td>2060.0</td>\n",
       "      <td>...</td>\n",
       "      <td>406.858917</td>\n",
       "      <td>415.057800</td>\n",
       "      <td>350.649689</td>\n",
       "      <td>749.578674</td>\n",
       "      <td>310.150085</td>\n",
       "      <td>505.910858</td>\n",
       "      <td>1805.066895</td>\n",
       "      <td>132.966736</td>\n",
       "      <td>135.607513</td>\n",
       "      <td>1327.010010</td>\n",
       "    </tr>\n",
       "    <tr>\n",
       "      <th>06-20</th>\n",
       "      <td>207.752686</td>\n",
       "      <td>181.300003</td>\n",
       "      <td>809.785828</td>\n",
       "      <td>656.702881</td>\n",
       "      <td>972.064087</td>\n",
       "      <td>85.325401</td>\n",
       "      <td>174.899994</td>\n",
       "      <td>796.650146</td>\n",
       "      <td>184.406082</td>\n",
       "      <td>2220.0</td>\n",
       "      <td>...</td>\n",
       "      <td>434.209106</td>\n",
       "      <td>408.540588</td>\n",
       "      <td>367.014618</td>\n",
       "      <td>729.191101</td>\n",
       "      <td>334.872864</td>\n",
       "      <td>519.854004</td>\n",
       "      <td>1727.129639</td>\n",
       "      <td>135.940445</td>\n",
       "      <td>133.941681</td>\n",
       "      <td>1347.890015</td>\n",
       "    </tr>\n",
       "    <tr>\n",
       "      <th>07-20</th>\n",
       "      <td>219.216980</td>\n",
       "      <td>195.300003</td>\n",
       "      <td>857.268250</td>\n",
       "      <td>688.385925</td>\n",
       "      <td>1017.452271</td>\n",
       "      <td>98.199600</td>\n",
       "      <td>195.399994</td>\n",
       "      <td>852.921265</td>\n",
       "      <td>180.743958</td>\n",
       "      <td>2159.0</td>\n",
       "      <td>...</td>\n",
       "      <td>453.174561</td>\n",
       "      <td>396.647797</td>\n",
       "      <td>361.176819</td>\n",
       "      <td>858.376221</td>\n",
       "      <td>371.864075</td>\n",
       "      <td>601.251953</td>\n",
       "      <td>1974.412231</td>\n",
       "      <td>131.763123</td>\n",
       "      <td>160.991791</td>\n",
       "      <td>1423.630005</td>\n",
       "    </tr>\n",
       "  </tbody>\n",
       "</table>\n",
       "<p>5 rows × 26 columns</p>\n",
       "</div>"
      ],
      "text/plain": [
       "        AMBU-B.CO     BAVA.CO   CARL-B.CO      CHR.CO    COLO-B.CO  DANSKE.CO  \\\n",
       "Date                                                                            \n",
       "03-20  164.686874  109.050003  690.846863  488.494751   928.482727  65.811813   \n",
       "04-20  212.936554  160.600006  793.157776  563.381897  1013.557678  78.095749   \n",
       "05-20  223.204544  200.199997  800.548035  623.291626  1058.730103  80.202789   \n",
       "06-20  207.752686  181.300003  809.785828  656.702881   972.064087  85.325401   \n",
       "07-20  219.216980  195.300003  857.268250  688.385925  1017.452271  98.199600   \n",
       "\n",
       "        DEMANT.CO      DSV.CO      FLS.CO  GMAB.CO  ...     NETC.CO  \\\n",
       "Date                                                ...               \n",
       "03-20  150.600006  605.491150  139.733887   1377.0  ...  315.225800   \n",
       "04-20  162.750000  691.190857  172.841522   1637.5  ...  350.960724   \n",
       "05-20  189.300003  696.503235  175.877243   2060.0  ...  406.858917   \n",
       "06-20  174.899994  796.650146  184.406082   2220.0  ...  434.209106   \n",
       "07-20  195.399994  852.921265  180.743958   2159.0  ...  453.174561   \n",
       "\n",
       "        NOVO-B.CO   NZYM-B.CO   ORSTED.CO   PNDORA.CO    RBREW.CO  \\\n",
       "Date                                                                \n",
       "03-20  383.850800  296.004211  625.472290  197.731461  439.058594   \n",
       "04-20  413.202545  319.259644  655.833740  224.828598  471.923065   \n",
       "05-20  415.057800  350.649689  749.578674  310.150085  505.910858   \n",
       "06-20  408.540588  367.014618  729.191101  334.872864  519.854004   \n",
       "07-20  396.647797  361.176819  858.376221  371.864075  601.251953   \n",
       "\n",
       "         ROCK-B.CO     TRYG.CO      VWS.CO      ^OMXC25  \n",
       "Date                                                     \n",
       "03-20  1151.906494  152.197433  108.125122  1126.500000  \n",
       "04-20  1339.208496  164.023926  114.699501  1234.959961  \n",
       "05-20  1805.066895  132.966736  135.607513  1327.010010  \n",
       "06-20  1727.129639  135.940445  133.941681  1347.890015  \n",
       "07-20  1974.412231  131.763123  160.991791  1423.630005  \n",
       "\n",
       "[5 rows x 26 columns]"
      ]
     },
     "execution_count": 20,
     "metadata": {},
     "output_type": "execute_result"
    }
   ],
   "source": [
    "# get historical market data\n",
    "hist_p = yf.download(C25_tickers, start = '2020-03-01',\n",
    "                        end = '2023-04-01',\n",
    "                        interval = '1mo')\n",
    "\n",
    "# get adjusted close for each stock and change dates\n",
    "hist_p = hist_p['Adj Close']\n",
    "\n",
    "# change dates\n",
    "hist_p.index = hist_p.index.strftime(\"%m-%y\")\n",
    "\n",
    "# display dataframe\n",
    "hist_p.head()\n"
   ]
  },
  {
   "cell_type": "code",
   "execution_count": 21,
   "metadata": {},
   "outputs": [
    {
     "data": {
      "text/html": [
       "<div>\n",
       "<style scoped>\n",
       "    .dataframe tbody tr th:only-of-type {\n",
       "        vertical-align: middle;\n",
       "    }\n",
       "\n",
       "    .dataframe tbody tr th {\n",
       "        vertical-align: top;\n",
       "    }\n",
       "\n",
       "    .dataframe thead th {\n",
       "        text-align: right;\n",
       "    }\n",
       "</style>\n",
       "<table border=\"1\" class=\"dataframe\">\n",
       "  <thead>\n",
       "    <tr style=\"text-align: right;\">\n",
       "      <th></th>\n",
       "      <th>AMBU-B.CO</th>\n",
       "      <th>BAVA.CO</th>\n",
       "      <th>CARL-B.CO</th>\n",
       "      <th>CHR.CO</th>\n",
       "      <th>COLO-B.CO</th>\n",
       "      <th>DANSKE.CO</th>\n",
       "      <th>DEMANT.CO</th>\n",
       "      <th>DSV.CO</th>\n",
       "      <th>FLS.CO</th>\n",
       "      <th>GMAB.CO</th>\n",
       "      <th>...</th>\n",
       "      <th>NETC.CO</th>\n",
       "      <th>NOVO-B.CO</th>\n",
       "      <th>NZYM-B.CO</th>\n",
       "      <th>ORSTED.CO</th>\n",
       "      <th>PNDORA.CO</th>\n",
       "      <th>RBREW.CO</th>\n",
       "      <th>ROCK-B.CO</th>\n",
       "      <th>TRYG.CO</th>\n",
       "      <th>VWS.CO</th>\n",
       "      <th>^OMXC25</th>\n",
       "    </tr>\n",
       "    <tr>\n",
       "      <th>Date</th>\n",
       "      <th></th>\n",
       "      <th></th>\n",
       "      <th></th>\n",
       "      <th></th>\n",
       "      <th></th>\n",
       "      <th></th>\n",
       "      <th></th>\n",
       "      <th></th>\n",
       "      <th></th>\n",
       "      <th></th>\n",
       "      <th></th>\n",
       "      <th></th>\n",
       "      <th></th>\n",
       "      <th></th>\n",
       "      <th></th>\n",
       "      <th></th>\n",
       "      <th></th>\n",
       "      <th></th>\n",
       "      <th></th>\n",
       "      <th></th>\n",
       "      <th></th>\n",
       "    </tr>\n",
       "  </thead>\n",
       "  <tbody>\n",
       "    <tr>\n",
       "      <th>03-20</th>\n",
       "      <td>1.000000</td>\n",
       "      <td>1.000000</td>\n",
       "      <td>1.000000</td>\n",
       "      <td>1.000000</td>\n",
       "      <td>1.000000</td>\n",
       "      <td>1.000000</td>\n",
       "      <td>1.000000</td>\n",
       "      <td>1.000000</td>\n",
       "      <td>1.000000</td>\n",
       "      <td>1.000000</td>\n",
       "      <td>...</td>\n",
       "      <td>1.000000</td>\n",
       "      <td>1.000000</td>\n",
       "      <td>1.000000</td>\n",
       "      <td>1.000000</td>\n",
       "      <td>1.000000</td>\n",
       "      <td>1.000000</td>\n",
       "      <td>1.000000</td>\n",
       "      <td>1.000000</td>\n",
       "      <td>1.000000</td>\n",
       "      <td>1.000000</td>\n",
       "    </tr>\n",
       "    <tr>\n",
       "      <th>04-20</th>\n",
       "      <td>1.292978</td>\n",
       "      <td>1.472719</td>\n",
       "      <td>1.148095</td>\n",
       "      <td>1.153302</td>\n",
       "      <td>1.091628</td>\n",
       "      <td>1.186652</td>\n",
       "      <td>1.080677</td>\n",
       "      <td>1.141538</td>\n",
       "      <td>1.236933</td>\n",
       "      <td>1.189179</td>\n",
       "      <td>...</td>\n",
       "      <td>1.113363</td>\n",
       "      <td>1.076467</td>\n",
       "      <td>1.078565</td>\n",
       "      <td>1.048542</td>\n",
       "      <td>1.137040</td>\n",
       "      <td>1.074852</td>\n",
       "      <td>1.162602</td>\n",
       "      <td>1.077705</td>\n",
       "      <td>1.060803</td>\n",
       "      <td>1.096280</td>\n",
       "    </tr>\n",
       "    <tr>\n",
       "      <th>05-20</th>\n",
       "      <td>1.355327</td>\n",
       "      <td>1.835855</td>\n",
       "      <td>1.158792</td>\n",
       "      <td>1.275943</td>\n",
       "      <td>1.140280</td>\n",
       "      <td>1.218669</td>\n",
       "      <td>1.256972</td>\n",
       "      <td>1.150311</td>\n",
       "      <td>1.258658</td>\n",
       "      <td>1.496006</td>\n",
       "      <td>...</td>\n",
       "      <td>1.290690</td>\n",
       "      <td>1.081300</td>\n",
       "      <td>1.184610</td>\n",
       "      <td>1.198420</td>\n",
       "      <td>1.568542</td>\n",
       "      <td>1.152263</td>\n",
       "      <td>1.567026</td>\n",
       "      <td>0.873646</td>\n",
       "      <td>1.254172</td>\n",
       "      <td>1.177994</td>\n",
       "    </tr>\n",
       "    <tr>\n",
       "      <th>06-20</th>\n",
       "      <td>1.261501</td>\n",
       "      <td>1.662540</td>\n",
       "      <td>1.172164</td>\n",
       "      <td>1.344340</td>\n",
       "      <td>1.046938</td>\n",
       "      <td>1.296506</td>\n",
       "      <td>1.161354</td>\n",
       "      <td>1.315709</td>\n",
       "      <td>1.319695</td>\n",
       "      <td>1.612200</td>\n",
       "      <td>...</td>\n",
       "      <td>1.377454</td>\n",
       "      <td>1.064321</td>\n",
       "      <td>1.239897</td>\n",
       "      <td>1.165825</td>\n",
       "      <td>1.693574</td>\n",
       "      <td>1.184020</td>\n",
       "      <td>1.499366</td>\n",
       "      <td>0.893185</td>\n",
       "      <td>1.238766</td>\n",
       "      <td>1.196529</td>\n",
       "    </tr>\n",
       "    <tr>\n",
       "      <th>07-20</th>\n",
       "      <td>1.331114</td>\n",
       "      <td>1.790922</td>\n",
       "      <td>1.240895</td>\n",
       "      <td>1.409198</td>\n",
       "      <td>1.095823</td>\n",
       "      <td>1.492127</td>\n",
       "      <td>1.297477</td>\n",
       "      <td>1.408644</td>\n",
       "      <td>1.293487</td>\n",
       "      <td>1.567901</td>\n",
       "      <td>...</td>\n",
       "      <td>1.437619</td>\n",
       "      <td>1.033338</td>\n",
       "      <td>1.220175</td>\n",
       "      <td>1.372365</td>\n",
       "      <td>1.880652</td>\n",
       "      <td>1.369412</td>\n",
       "      <td>1.714039</td>\n",
       "      <td>0.865738</td>\n",
       "      <td>1.488940</td>\n",
       "      <td>1.263764</td>\n",
       "    </tr>\n",
       "  </tbody>\n",
       "</table>\n",
       "<p>5 rows × 26 columns</p>\n",
       "</div>"
      ],
      "text/plain": [
       "       AMBU-B.CO   BAVA.CO  CARL-B.CO    CHR.CO  COLO-B.CO  DANSKE.CO  \\\n",
       "Date                                                                    \n",
       "03-20   1.000000  1.000000   1.000000  1.000000   1.000000   1.000000   \n",
       "04-20   1.292978  1.472719   1.148095  1.153302   1.091628   1.186652   \n",
       "05-20   1.355327  1.835855   1.158792  1.275943   1.140280   1.218669   \n",
       "06-20   1.261501  1.662540   1.172164  1.344340   1.046938   1.296506   \n",
       "07-20   1.331114  1.790922   1.240895  1.409198   1.095823   1.492127   \n",
       "\n",
       "       DEMANT.CO    DSV.CO    FLS.CO   GMAB.CO  ...   NETC.CO  NOVO-B.CO  \\\n",
       "Date                                            ...                        \n",
       "03-20   1.000000  1.000000  1.000000  1.000000  ...  1.000000   1.000000   \n",
       "04-20   1.080677  1.141538  1.236933  1.189179  ...  1.113363   1.076467   \n",
       "05-20   1.256972  1.150311  1.258658  1.496006  ...  1.290690   1.081300   \n",
       "06-20   1.161354  1.315709  1.319695  1.612200  ...  1.377454   1.064321   \n",
       "07-20   1.297477  1.408644  1.293487  1.567901  ...  1.437619   1.033338   \n",
       "\n",
       "       NZYM-B.CO  ORSTED.CO  PNDORA.CO  RBREW.CO  ROCK-B.CO   TRYG.CO  \\\n",
       "Date                                                                    \n",
       "03-20   1.000000   1.000000   1.000000  1.000000   1.000000  1.000000   \n",
       "04-20   1.078565   1.048542   1.137040  1.074852   1.162602  1.077705   \n",
       "05-20   1.184610   1.198420   1.568542  1.152263   1.567026  0.873646   \n",
       "06-20   1.239897   1.165825   1.693574  1.184020   1.499366  0.893185   \n",
       "07-20   1.220175   1.372365   1.880652  1.369412   1.714039  0.865738   \n",
       "\n",
       "         VWS.CO   ^OMXC25  \n",
       "Date                       \n",
       "03-20  1.000000  1.000000  \n",
       "04-20  1.060803  1.096280  \n",
       "05-20  1.254172  1.177994  \n",
       "06-20  1.238766  1.196529  \n",
       "07-20  1.488940  1.263764  \n",
       "\n",
       "[5 rows x 26 columns]"
      ]
     },
     "execution_count": 21,
     "metadata": {},
     "output_type": "execute_result"
    }
   ],
   "source": [
    "# calculate monthly returns and cumulative returns \n",
    "hist_mr, hist_cr = dp.calculate_returns(hist_p)\n",
    "\n",
    "# set the first row of the cumulative returns to 1\n",
    "hist_cr.iloc[0] = 1\n",
    "\n",
    "# display dataframe\n",
    "hist_cr.head()"
   ]
  },
  {
   "attachments": {},
   "cell_type": "markdown",
   "metadata": {},
   "source": [
    "## Exploring the Data"
   ]
  },
  {
   "attachments": {},
   "cell_type": "markdown",
   "metadata": {},
   "source": [
    "To explore the data, I first visualize the cumulative returns of each stock relative to the C25 index.\n",
    "<br>\n",
    "Next, I present a bar chart which show the proportion of female board members on each company."
   ]
  },
  {
   "cell_type": "code",
   "execution_count": 22,
   "metadata": {},
   "outputs": [
    {
     "data": {
      "application/vnd.jupyter.widget-view+json": {
       "model_id": "5a1a71ec1ee94bd78bc01071426c55f7",
       "version_major": 2,
       "version_minor": 0
      },
      "text/plain": [
       "interactive(children=(Dropdown(description='Stock:', options=('GN.CO', 'PNDORA.CO', 'CHR.CO', 'COLO-B.CO', 'GM…"
      ]
     },
     "metadata": {},
     "output_type": "display_data"
    }
   ],
   "source": [
    "# define type of widget, the options to choose from and the description next to the Dropdown\n",
    "stockpicker = widgets.Dropdown(options=C25_tickers, description='Stock:')\n",
    "\n",
    "\n",
    "# display the interactive plot\n",
    "widgets.interact(dp.cum_ret_plot, data=widgets.fixed(hist_cr), stock=stockpicker,\n",
    "                ref = widgets.fixed('^OMXC25'),\n",
    "                fig = widgets.fixed(1),\n",
    "                ax_data=widgets.fixed(None));"
   ]
  },
  {
   "attachments": {},
   "cell_type": "markdown",
   "metadata": {},
   "source": [
    "Figure 1 illustrates the cumulative return from investing 1 kr in a stock within the C25 index as opposed to investing in the index itself.\n",
    "\n",
    "\n",
    "\n"
   ]
  },
  {
   "cell_type": "code",
   "execution_count": 23,
   "metadata": {},
   "outputs": [
    {
     "name": "stderr",
     "output_type": "stream",
     "text": [
      "C:\\Users\\jonas\\AppData\\Local\\Temp\\ipykernel_27292\\2463232299.py:20: UserWarning: FixedFormatter should only be used together with FixedLocator\n",
      "  ax.set_xticklabels(ax.get_xticklabels(), fontsize = 10.5)\n"
     ]
    },
    {
     "data": {
      "image/png": "[encoded data removed]",
      "text/plain": [
       "<Figure size 640x480 with 1 Axes>"
      ]
     },
     "metadata": {},
     "output_type": "display_data"
    }
   ],
   "source": [
    "# set theme\n",
    "sns.set(style=\"whitegrid\")\n",
    "\n",
    "# create a list with n colors of dark:salmon_r\n",
    "palette = list(sns.color_palette('dark:salmon_r', n_colors = len(C25F)))\n",
    "\n",
    "# insert the color 'orange' in the list of colors using the index of C25\n",
    "palette.insert(C25F[C25F['company'] == 'OMX COPENHAGEN 25 INDEX'].index[0], 'orange')\n",
    "\n",
    "# create the bar chart with the custom palette\n",
    "ax = sns.barplot(x='femaleboard', y='company', data=C25F, palette=palette) \n",
    "\n",
    "# set the title, labels and ticks\n",
    "ax.set_title('Figure 2: Percentage of Female Board Members in C25', fontsize = 12)\n",
    "ax.set_xlabel('Percentage', fontsize = 12)\n",
    "ax.set_ylabel('Company', fontsize = 12)\n",
    "\n",
    "# change the font size of the x- and y-tick labels\n",
    "ax.set_yticklabels(ax.get_yticklabels(), fontsize = 10.5)\n",
    "ax.set_xticklabels(ax.get_xticklabels(), fontsize = 10.5)\n",
    "\n",
    "# Show the plot\n",
    "plt.show();"
   ]
  },
  {
   "attachments": {},
   "cell_type": "markdown",
   "metadata": {},
   "source": [
    "Figure 2 displays the proportion of female board members for each company within the C25 index."
   ]
  },
  {
   "attachments": {},
   "cell_type": "markdown",
   "metadata": {},
   "source": [
    "# Merging and Analyzing the Data"
   ]
  },
  {
   "attachments": {},
   "cell_type": "markdown",
   "metadata": {},
   "source": [
    "ABC"
   ]
  },
  {
   "cell_type": "code",
   "execution_count": 24,
   "metadata": {},
   "outputs": [],
   "source": [
    "# calculate expected monthly returns, convert to DataFrame, reset index, and rename first column\n",
    "hist_emr = ((hist_mr.mean()*100)\n",
    "                 .to_frame(name='expectedmonthly')\n",
    "                 .reset_index()\n",
    "                 .rename(columns={'index': 'yfinanceticker'}))"
   ]
  },
  {
   "attachments": {},
   "cell_type": "markdown",
   "metadata": {},
   "source": [
    "I merge the datasets `hist_emr` and `C25F`."
   ]
  },
  {
   "cell_type": "code",
   "execution_count": 25,
   "metadata": {},
   "outputs": [],
   "source": [
    "fmr = pd.merge(hist_emr,\n",
    "                C25F,\n",
    "                on=['yfinanceticker'],\n",
    "                how='inner')"
   ]
  },
  {
   "attachments": {},
   "cell_type": "markdown",
   "metadata": {},
   "source": [
    "I create a plot to estimate if there is a connection between the percentage of females on board and the expected monthly return."
   ]
  },
  {
   "cell_type": "code",
   "execution_count": 26,
   "metadata": {},
   "outputs": [
    {
     "data": {
      "image/png": "[encoded data removed]",
      "text/plain": [
       "<Figure size 800x500 with 1 Axes>"
      ]
     },
     "metadata": {},
     "output_type": "display_data"
    }
   ],
   "source": [
    "# create variables: \n",
    "x = fmr['femaleboard']\n",
    "y = fmr['expectedmonthly']\n",
    "label = fmr['yfinanceticker']\n",
    "\n",
    "# create the figure\n",
    "fig = plt.figure()\n",
    "\n",
    "# set size\n",
    "fig.set_size_inches(8, 5)\n",
    "\n",
    "# add plot\n",
    "ax = fig.add_subplot(1,1,1)\n",
    "ax.scatter(fmr['femaleboard'], fmr['expectedmonthly'])\n",
    "\n",
    "# add a list of text labels for each data point using ax.text and a for loop \n",
    "texts = [ax.text(x_pos, y_pos, f'{lab}', fontsize = 8, ha = 'center') for (x_pos, y_pos, lab) in zip(x, y, label)]\n",
    "\n",
    "# adjust the text labels for each data point automaticly\n",
    "adjust_text(texts, arrowprops=dict(arrowstyle='-', color='k', lw=0.5))\n",
    "\n",
    "# set title and labels\n",
    "ax.set_title('Figure 3: Female Board Members and Expected Monthly Return', fontsize = 12)\n",
    "ax.set_xlabel('Female Board Members in Percent', fontsize = 12)\n",
    "ax.set_ylabel('Expected Monthly Return in Percent', fontsize = 12)\n",
    "\n",
    "plt.show();"
   ]
  },
  {
   "attachments": {},
   "cell_type": "markdown",
   "metadata": {},
   "source": [
    "Comment on connection."
   ]
  },
  {
   "attachments": {},
   "cell_type": "markdown",
   "metadata": {},
   "source": [
    "I estimate returns for a index weighted by share of women on the board. "
   ]
  },
  {
   "cell_type": "code",
   "execution_count": 27,
   "metadata": {},
   "outputs": [
    {
     "name": "stderr",
     "output_type": "stream",
     "text": [
      "C:\\Users\\jonas\\AppData\\Local\\Temp\\ipykernel_27292\\305325637.py:8: SettingWithCopyWarning: \n",
      "A value is trying to be set on a copy of a slice from a DataFrame.\n",
      "Try using .loc[row_indexer,col_indexer] = value instead\n",
      "\n",
      "See the caveats in the documentation: https://pandas.pydata.org/pandas-docs/stable/user_guide/indexing.html#returning-a-view-versus-a-copy\n",
      "  wC25F['femaleboard'] = dp.norm_col(wC25F['femaleboard'])\n"
     ]
    }
   ],
   "source": [
    "# remove row with C25 index\n",
    "wC25F = C25F.loc[C25F['company'] != 'OMX COPENHAGEN 25 INDEX']\n",
    "\n",
    "# update Maersk A and B by dividing by 2\n",
    "wC25F.loc[wC25F['yfinanceticker'].isin(['MAERSK-A.CO', 'MAERSK-B.CO']), 'femaleboard'] /= 2\n",
    "\n",
    "# normalize femaleboard using norm_col func from dataproject.py\n",
    "wC25F['femaleboard'] = dp.norm_col(wC25F['femaleboard'])\n",
    "\n",
    "# sort values ascending\n",
    "wC25F = wC25F.sort_values('yfinanceticker', ascending=True)\n",
    "\n",
    "# create list for weights\n",
    "wC25F_list = wC25F['femaleboard'].values.tolist()"
   ]
  },
  {
   "cell_type": "code",
   "execution_count": 28,
   "metadata": {},
   "outputs": [],
   "source": [
    "# remove column with C25 index\n",
    "w_hist_mr = hist_mr.drop(columns = '^OMXC25')\n",
    "\n",
    "# sort columns ascending\n",
    "sorted_columns = sorted(w_hist_mr.columns)\n",
    "w_hist_mr = w_hist_mr[sorted_columns]\n"
   ]
  },
  {
   "cell_type": "code",
   "execution_count": 29,
   "metadata": {},
   "outputs": [],
   "source": [
    "# calculate weighted returns\n",
    "weighted_returns = (wC25F_list * w_hist_mr)\n",
    "\n",
    "# calculate portfolio returns \n",
    "port_ret = weighted_returns.sum(axis=1)\n",
    "\n",
    "# calculate cumulative return\n",
    "cum_port_ret = (1 + port_ret).cumprod()\n",
    "\n",
    "# convert to dataframe\n",
    "cum_port_ret = cum_port_ret.to_frame(name='^WOMXC25')"
   ]
  },
  {
   "cell_type": "code",
   "execution_count": 30,
   "metadata": {},
   "outputs": [],
   "source": [
    "# create new ticker list which includes ^WOMXC25\n",
    "C26_tickers = C25_tickers + list(cum_port_ret.columns)\n",
    "\n",
    "# merge cum_port_ret to hist_cr\n",
    "hist_cr = pd.merge(hist_cr, cum_port_ret, left_index=True, right_index=True, how='outer')"
   ]
  },
  {
   "cell_type": "code",
   "execution_count": 31,
   "metadata": {},
   "outputs": [
    {
     "data": {
      "application/vnd.jupyter.widget-view+json": {
       "model_id": "657850d2ef1a4587a285d938a0a8c1c2",
       "version_major": 2,
       "version_minor": 0
      },
      "text/plain": [
       "interactive(children=(Dropdown(description='Stock:', options=('GN.CO', 'PNDORA.CO', 'CHR.CO', 'COLO-B.CO', 'GM…"
      ]
     },
     "metadata": {},
     "output_type": "display_data"
    }
   ],
   "source": [
    "# define type of widget, the options to choose from and the description next to the Dropdown\n",
    "stockpicker = widgets.Dropdown(options=C26_tickers, description='Stock:')\n",
    "\n",
    "# display the interactive plot\n",
    "widgets.interact(dp.cum_ret_plot, data=widgets.fixed(hist_cr), stock=stockpicker,\n",
    "                ref = widgets.fixed('^WOMXC25'),\n",
    "                fig = widgets.fixed(4),\n",
    "                ax_data=widgets.fixed(None));"
   ]
  },
  {
   "cell_type": "markdown",
   "metadata": {},
   "source": [
    "# Analysis"
   ]
  },
  {
   "cell_type": "markdown",
   "metadata": {},
   "source": [
    "To get a quick overview of the data, we show some **summary statistics** on a meaningful aggregation. "
   ]
  },
  {
   "cell_type": "markdown",
   "metadata": {},
   "source": [
    "MAKE FURTHER ANALYSIS. EXPLAIN THE CODE BRIEFLY AND SUMMARIZE THE RESULTS."
   ]
  },
  {
   "cell_type": "markdown",
   "metadata": {},
   "source": [
    "# Conclusion"
   ]
  },
  {
   "cell_type": "markdown",
   "metadata": {},
   "source": [
    "ADD CONCISE CONLUSION."
   ]
  }
 ],
 "metadata": {
  "kernelspec": {
   "display_name": "base",
   "language": "python",
   "name": "python3"
  },
  "language_info": {
   "codemirror_mode": {
    "name": "ipython",
    "version": 3
   },
   "file_extension": ".py",
   "mimetype": "text/x-python",
   "name": "python",
   "nbconvert_exporter": "python",
   "pygments_lexer": "ipython3",
   "version": "3.9.16"
  },
  "toc-autonumbering": true,
  "vscode": {
   "interpreter": {
    "hash": "47ef90cdf3004d3f859f1fb202523c65c07ba7c22eefd261b181f4744e2d0403"
   }
  }
 },
 "nbformat": 4,
 "nbformat_minor": 4
}
